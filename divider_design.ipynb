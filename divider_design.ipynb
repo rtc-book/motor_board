{
  "cells": [
    {
      "cell_type": "code",
      "source": [
        "import numpy as np\n",
        "import matplotlib.pyplot as plt\n",
        "%matplotlib inline"
      ],
      "outputs": [],
      "execution_count": 1,
      "metadata": {
        "collapsed": true,
        "jupyter": {
          "source_hidden": false,
          "outputs_hidden": false
        },
        "nteract": {
          "transient": {
            "deleting": false
          }
        },
        "execution": {
          "iopub.status.busy": "2024-08-22T23:59:58.537Z",
          "iopub.execute_input": "2024-08-22T23:59:58.548Z",
          "shell.execute_reply": "2024-08-22T23:59:58.614Z",
          "iopub.status.idle": "2024-08-22T23:59:58.735Z"
        }
      }
    },
    {
      "cell_type": "markdown",
      "source": [
        "A resistor devider is needed to lower the voltage level of the amplifier command voltage used for lab 4 to a lower voltage. The input voltage is:"
      ],
      "metadata": {
        "nteract": {
          "transient": {
            "deleting": false
          }
        }
      }
    },
    {
      "cell_type": "code",
      "source": [
        "Vin = 3.3 # Volts"
      ],
      "outputs": [],
      "execution_count": 2,
      "metadata": {
        "collapsed": true,
        "jupyter": {
          "source_hidden": false,
          "outputs_hidden": false
        },
        "nteract": {
          "transient": {
            "deleting": false
          }
        },
        "execution": {
          "iopub.status.busy": "2024-08-22T23:59:58.750Z",
          "iopub.execute_input": "2024-08-22T23:59:58.760Z",
          "iopub.status.idle": "2024-08-22T23:59:58.770Z",
          "shell.execute_reply": "2024-08-22T23:59:58.620Z"
        }
      }
    },
    {
      "cell_type": "markdown",
      "source": [
        "The desired current is:"
      ],
      "metadata": {
        "nteract": {
          "transient": {
            "deleting": false
          }
        }
      }
    },
    {
      "cell_type": "code",
      "source": [
        "Iout = 0.05 # Amps"
      ],
      "outputs": [],
      "execution_count": 3,
      "metadata": {
        "collapsed": true,
        "jupyter": {
          "source_hidden": false,
          "outputs_hidden": false
        },
        "nteract": {
          "transient": {
            "deleting": false
          }
        },
        "execution": {
          "iopub.status.busy": "2024-08-22T23:59:58.784Z",
          "iopub.execute_input": "2024-08-22T23:59:58.793Z",
          "iopub.status.idle": "2024-08-22T23:59:58.803Z",
          "shell.execute_reply": "2024-08-22T23:59:58.630Z"
        }
      }
    },
    {
      "cell_type": "markdown",
      "source": [
        "Since the amplifier gain is:"
      ],
      "metadata": {
        "nteract": {
          "transient": {
            "deleting": false
          }
        }
      }
    },
    {
      "cell_type": "code",
      "source": [
        "Ka = 0.06 # A / V"
      ],
      "outputs": [],
      "execution_count": 4,
      "metadata": {
        "collapsed": true,
        "jupyter": {
          "source_hidden": false,
          "outputs_hidden": false
        },
        "nteract": {
          "transient": {
            "deleting": false
          }
        },
        "execution": {
          "iopub.status.busy": "2024-08-22T23:59:58.822Z",
          "iopub.execute_input": "2024-08-22T23:59:58.833Z",
          "iopub.status.idle": "2024-08-22T23:59:58.845Z",
          "shell.execute_reply": "2024-08-22T23:59:58.640Z"
        }
      }
    },
    {
      "cell_type": "markdown",
      "source": [
        "Therefore, the desired voltage is:"
      ],
      "metadata": {
        "nteract": {
          "transient": {
            "deleting": false
          }
        }
      }
    },
    {
      "cell_type": "code",
      "source": [
        "Vout = Iout / Ka\n",
        "print(f\"{Vout} Volts\")"
      ],
      "outputs": [
        {
          "output_type": "stream",
          "name": "stdout",
          "text": [
            "0.833333333333333 Volts\n"
          ]
        }
      ],
      "execution_count": 5,
      "metadata": {
        "collapsed": true,
        "jupyter": {
          "source_hidden": false,
          "outputs_hidden": false
        },
        "nteract": {
          "transient": {
            "deleting": false
          }
        },
        "execution": {
          "iopub.status.busy": "2024-08-22T23:59:58.861Z",
          "iopub.execute_input": "2024-08-22T23:59:58.870Z",
          "iopub.status.idle": "2024-08-22T23:59:58.886Z",
          "shell.execute_reply": "2024-08-22T23:59:58.653Z"
        }
      }
    },
    {
      "cell_type": "markdown",
      "source": [
        "The hard part about this design problem is the resistor choices are limited. Resistors are primarily only available in the E-series:"
      ],
      "metadata": {
        "nteract": {
          "transient": {
            "deleting": false
          }
        }
      }
    },
    {
      "cell_type": "code",
      "source": [
        "Eseries = np.array([1, 1.2, 1.5, 1.8, 2.2, 2.7, 3.3, 3.9, 4.7, 5.6, 6.8, 8.2])\n",
        "\n",
        "@np.vectorize\n",
        "def find_closest(value):\n",
        "  series = np.hstack([Eseries, 10 * Eseries])\n",
        "  while True:\n",
        "    if value > series.max():\n",
        "      series *= 10\n",
        "    elif value < series.min():\n",
        "      series /= 10\n",
        "    else:\n",
        "      break\n",
        "  return series[np.abs(series - value).argmin()]\n",
        "  "
      ],
      "outputs": [],
      "execution_count": 6,
      "metadata": {
        "collapsed": true,
        "jupyter": {
          "source_hidden": false,
          "outputs_hidden": false
        },
        "nteract": {
          "transient": {
            "deleting": false
          }
        },
        "execution": {
          "iopub.status.busy": "2024-08-22T23:59:58.899Z",
          "iopub.execute_input": "2024-08-22T23:59:58.908Z",
          "iopub.status.idle": "2024-08-22T23:59:58.918Z",
          "shell.execute_reply": "2024-08-22T23:59:58.663Z"
        }
      }
    },
    {
      "cell_type": "markdown",
      "source": [
        "We can assume values for R2, then solve for R1."
      ],
      "metadata": {
        "nteract": {
          "transient": {
            "deleting": false
          }
        }
      }
    },
    {
      "cell_type": "code",
      "source": [
        "R2 = np.hstack([100 * Eseries, 1000 * Eseries])\n",
        "R2"
      ],
      "outputs": [
        {
          "output_type": "execute_result",
          "execution_count": 7,
          "data": {
            "text/plain": "array([ 100.,  120.,  150.,  180.,  220.,  270.,  330.,  390.,  470.,\n        560.,  680.,  820., 1000., 1200., 1500., 1800., 2200., 2700.,\n       3300., 3900., 4700., 5600., 6800., 8200.])"
          },
          "metadata": {}
        }
      ],
      "execution_count": 7,
      "metadata": {
        "collapsed": true,
        "jupyter": {
          "source_hidden": false,
          "outputs_hidden": false
        },
        "nteract": {
          "transient": {
            "deleting": false
          }
        },
        "execution": {
          "iopub.status.busy": "2024-08-22T23:59:58.931Z",
          "iopub.execute_input": "2024-08-22T23:59:58.940Z",
          "iopub.status.idle": "2024-08-22T23:59:58.956Z",
          "shell.execute_reply": "2024-08-22T23:59:58.673Z"
        }
      }
    },
    {
      "cell_type": "markdown",
      "source": [
        "There is an extra 100k resistor built into the amplifier that will be parallel to R2. Taking this into account:"
      ],
      "metadata": {
        "nteract": {
          "transient": {
            "deleting": false
          }
        }
      }
    },
    {
      "cell_type": "code",
      "source": [
        "R2_act = 1 / (1 / R2 + 1 / 100000)\n",
        "R2_act"
      ],
      "outputs": [
        {
          "output_type": "execute_result",
          "execution_count": 8,
          "data": {
            "text/plain": "array([  99.9000999 ,  119.85617259,  149.77533699,  179.67658215,\n        219.51706246,  269.272963  ,  328.91458188,  388.48490886,\n        467.80133373,  556.8814638 ,  675.40723083,  813.33068836,\n        990.0990099 , 1185.77075099, 1477.83251232, 1768.17288802,\n       2152.64187867, 2629.01655307, 3194.57889642, 3753.60923965,\n       4489.01623687, 5303.03030303, 6367.0411985 , 7578.55822551])"
          },
          "metadata": {}
        }
      ],
      "execution_count": 8,
      "metadata": {
        "collapsed": true,
        "jupyter": {
          "source_hidden": false,
          "outputs_hidden": false
        },
        "nteract": {
          "transient": {
            "deleting": false
          }
        },
        "execution": {
          "iopub.status.busy": "2024-08-22T23:59:58.970Z",
          "iopub.execute_input": "2024-08-22T23:59:58.980Z",
          "iopub.status.idle": "2024-08-22T23:59:59.001Z",
          "shell.execute_reply": "2024-08-22T23:59:58.684Z"
        }
      }
    },
    {
      "cell_type": "markdown",
      "source": [
        "We can now solve for the value of the R1, given R2:"
      ],
      "metadata": {
        "nteract": {
          "transient": {
            "deleting": false
          }
        }
      }
    },
    {
      "cell_type": "code",
      "source": [
        "def solve_divider(R2):\n",
        "  return R2 * (Vin / Vout - 1)"
      ],
      "outputs": [],
      "execution_count": 9,
      "metadata": {
        "collapsed": true,
        "jupyter": {
          "source_hidden": false,
          "outputs_hidden": false
        },
        "nteract": {
          "transient": {
            "deleting": false
          }
        },
        "execution": {
          "iopub.status.busy": "2024-08-22T23:59:59.017Z",
          "iopub.execute_input": "2024-08-22T23:59:59.027Z",
          "iopub.status.idle": "2024-08-22T23:59:59.037Z",
          "shell.execute_reply": "2024-08-22T23:59:58.694Z"
        }
      }
    },
    {
      "cell_type": "code",
      "source": [
        "R1 = find_closest(solve_divider(R2_act))\n",
        "print(R1)"
      ],
      "outputs": [
        {
          "output_type": "stream",
          "name": "stdout",
          "text": [
            "[  270.   330.   470.   560.   680.   820.  1000.  1200.  1500.  1500.\n",
            "  1800.  2200.  2700.  3300.  4700.  5600.  6800.  8200. 10000. 12000.\n",
            " 12000. 15000. 18000. 22000.]\n"
          ]
        }
      ],
      "execution_count": 10,
      "metadata": {
        "collapsed": true,
        "jupyter": {
          "source_hidden": false,
          "outputs_hidden": false
        },
        "nteract": {
          "transient": {
            "deleting": false
          }
        },
        "execution": {
          "iopub.status.busy": "2024-08-22T23:59:59.051Z",
          "iopub.execute_input": "2024-08-22T23:59:59.061Z",
          "iopub.status.idle": "2024-08-22T23:59:59.076Z",
          "shell.execute_reply": "2024-08-22T23:59:58.708Z"
        }
      }
    },
    {
      "cell_type": "markdown",
      "source": [
        "We can now find the output of each divider:"
      ],
      "metadata": {
        "nteract": {
          "transient": {
            "deleting": false
          }
        }
      }
    },
    {
      "cell_type": "code",
      "source": [
        "Vout_act = Vin * (R2_act / (R1 + R2_act))\n",
        "Vout_act"
      ],
      "outputs": [
        {
          "output_type": "execute_result",
          "execution_count": 11,
          "data": {
            "text/plain": "array([0.89124153, 0.87922628, 0.79748028, 0.80161078, 0.80532803,\n       0.8157742 , 0.81677042, 0.80705847, 0.78450216, 0.89344421,\n       0.90039483, 0.89070585, 0.88543064, 0.87232355, 0.78941073,\n       0.79191553, 0.79347731, 0.80115813, 0.79897285, 0.78629032,\n       0.8984013 , 0.8619403 , 0.86228097, 0.84551931])"
          },
          "metadata": {}
        }
      ],
      "execution_count": 11,
      "metadata": {
        "collapsed": true,
        "jupyter": {
          "source_hidden": false,
          "outputs_hidden": false
        },
        "nteract": {
          "transient": {
            "deleting": false
          }
        },
        "execution": {
          "iopub.status.busy": "2024-08-22T23:59:59.089Z",
          "iopub.execute_input": "2024-08-22T23:59:59.098Z",
          "iopub.status.idle": "2024-08-22T23:59:59.112Z",
          "shell.execute_reply": "2024-08-22T23:59:58.720Z"
        }
      }
    },
    {
      "cell_type": "code",
      "source": [
        "plt.bar(range(Vout_act.size), Vout_act)\n",
        "plt.ylabel(\"Actual Output Voltage\")\n",
        "plt.xlabel(\"Voltage Divider\");"
      ],
      "outputs": [
        {
          "output_type": "display_data",
          "data": {
            "image/png": "[encoded data removed]",
            "text/plain": "<Figure size 432x288 with 1 Axes>"
          },
          "metadata": {
            "needs_background": "light"
          }
        }
      ],
      "execution_count": 12,
      "metadata": {
        "collapsed": true,
        "jupyter": {
          "source_hidden": false,
          "outputs_hidden": false
        },
        "nteract": {
          "transient": {
            "deleting": false
          }
        },
        "execution": {
          "iopub.status.busy": "2024-08-22T23:59:59.126Z",
          "iopub.execute_input": "2024-08-22T23:59:59.134Z",
          "iopub.status.idle": "2024-08-22T23:59:59.155Z",
          "shell.execute_reply": "2024-08-22T23:59:59.412Z"
        }
      }
    },
    {
      "cell_type": "code",
      "source": [
        "percent_error = 100 * np.abs((Vout_act - Vout) / Vout)\n",
        "plt.bar(range(percent_error.size), percent_error)\n",
        "plt.ylabel(\"Percent Error\")\n",
        "plt.xlabel(\"Voltage Divider\");"
      ],
      "outputs": [
        {
          "output_type": "display_data",
          "data": {
            "image/png": "[encoded data removed]",
            "text/plain": "<Figure size 432x288 with 1 Axes>"
          },
          "metadata": {
            "needs_background": "light"
          }
        }
      ],
      "execution_count": 13,
      "metadata": {
        "collapsed": true,
        "jupyter": {
          "source_hidden": false,
          "outputs_hidden": false
        },
        "nteract": {
          "transient": {
            "deleting": false
          }
        },
        "execution": {
          "iopub.status.busy": "2024-08-22T23:59:59.170Z",
          "iopub.execute_input": "2024-08-22T23:59:59.180Z",
          "iopub.status.idle": "2024-08-22T23:59:59.199Z",
          "shell.execute_reply": "2024-08-22T23:59:59.422Z"
        }
      }
    },
    {
      "cell_type": "markdown",
      "source": [
        "The best resistor divider is:"
      ],
      "metadata": {
        "nteract": {
          "transient": {
            "deleting": false
          }
        }
      }
    },
    {
      "cell_type": "code",
      "source": [
        "best = percent_error.argmin()\n",
        "best"
      ],
      "outputs": [
        {
          "output_type": "execute_result",
          "execution_count": 14,
          "data": {
            "text/plain": "23"
          },
          "metadata": {}
        }
      ],
      "execution_count": 14,
      "metadata": {
        "collapsed": true,
        "jupyter": {
          "source_hidden": false,
          "outputs_hidden": false
        },
        "nteract": {
          "transient": {
            "deleting": false
          }
        },
        "execution": {
          "iopub.status.busy": "2024-08-22T23:59:59.212Z",
          "iopub.execute_input": "2024-08-22T23:59:59.221Z",
          "iopub.status.idle": "2024-08-22T23:59:59.240Z",
          "shell.execute_reply": "2024-08-22T23:59:59.440Z"
        }
      }
    },
    {
      "cell_type": "markdown",
      "source": [
        "This resistor divider is composed of resistors with values:"
      ],
      "metadata": {
        "nteract": {
          "transient": {
            "deleting": false
          }
        }
      }
    },
    {
      "cell_type": "code",
      "source": [
        "print(f\"{R1[best]} and {R2[best]} ohms\")"
      ],
      "outputs": [
        {
          "output_type": "stream",
          "name": "stdout",
          "text": [
            "22000.0 and 8200.0 ohms\n"
          ]
        }
      ],
      "execution_count": 15,
      "metadata": {
        "collapsed": true,
        "jupyter": {
          "source_hidden": false,
          "outputs_hidden": false
        },
        "nteract": {
          "transient": {
            "deleting": false
          }
        },
        "execution": {
          "iopub.status.busy": "2024-08-22T23:59:59.254Z",
          "iopub.execute_input": "2024-08-22T23:59:59.263Z",
          "iopub.status.idle": "2024-08-22T23:59:59.282Z",
          "shell.execute_reply": "2024-08-22T23:59:59.446Z"
        }
      }
    },
    {
      "cell_type": "markdown",
      "source": [
        "It results in an output voltage of:"
      ],
      "metadata": {
        "nteract": {
          "transient": {
            "deleting": false
          }
        }
      }
    },
    {
      "cell_type": "code",
      "source": [
        "Vout_act[best]"
      ],
      "outputs": [
        {
          "output_type": "execute_result",
          "execution_count": 16,
          "data": {
            "text/plain": "0.8455193100862393"
          },
          "metadata": {}
        }
      ],
      "execution_count": 16,
      "metadata": {
        "collapsed": true,
        "jupyter": {
          "source_hidden": false,
          "outputs_hidden": false
        },
        "nteract": {
          "transient": {
            "deleting": false
          }
        },
        "execution": {
          "iopub.status.busy": "2024-08-22T23:59:59.296Z",
          "iopub.execute_input": "2024-08-22T23:59:59.305Z",
          "iopub.status.idle": "2024-08-22T23:59:59.324Z",
          "shell.execute_reply": "2024-08-22T23:59:59.452Z"
        }
      }
    },
    {
      "cell_type": "markdown",
      "source": [
        "Which has a percent error of:"
      ],
      "metadata": {
        "nteract": {
          "transient": {
            "deleting": false
          }
        }
      }
    },
    {
      "cell_type": "code",
      "source": [
        "print(f\"{percent_error[best]}%\")"
      ],
      "outputs": [
        {
          "output_type": "stream",
          "name": "stdout",
          "text": [
            "1.462317210348707%\n"
          ]
        }
      ],
      "execution_count": 17,
      "metadata": {
        "collapsed": true,
        "jupyter": {
          "source_hidden": false,
          "outputs_hidden": false
        },
        "nteract": {
          "transient": {
            "deleting": false
          }
        },
        "execution": {
          "iopub.status.busy": "2024-08-22T23:59:59.338Z",
          "iopub.execute_input": "2024-08-22T23:59:59.348Z",
          "iopub.status.idle": "2024-08-22T23:59:59.367Z",
          "shell.execute_reply": "2024-08-22T23:59:59.459Z"
        }
      }
    },
    {
      "cell_type": "code",
      "source": [],
      "outputs": [],
      "execution_count": null,
      "metadata": {
        "collapsed": true,
        "jupyter": {
          "source_hidden": false,
          "outputs_hidden": false
        },
        "nteract": {
          "transient": {
            "deleting": false
          }
        }
      }
    }
  ],
  "metadata": {
    "kernel_info": {
      "name": "sagemath"
    },
    "language_info": {
      "name": "python",
      "version": "3.8.10",
      "mimetype": "text/x-python",
      "codemirror_mode": {
        "name": "ipython",
        "version": 3
      },
      "pygments_lexer": "ipython3",
      "nbconvert_exporter": "python",
      "file_extension": ".py"
    },
    "kernelspec": {
      "argv": [
        "/usr/bin/sage",
        "--python",
        "-m",
        "sage.repl.ipython_kernel",
        "-f",
        "{connection_file}"
      ],
      "display_name": "SageMath 9.0",
      "language": "sage",
      "name": "sagemath"
    },
    "nteract": {
      "version": "0.28.0"
    }
  },
  "nbformat": 4,
  "nbformat_minor": 0
}