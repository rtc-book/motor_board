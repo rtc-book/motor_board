{
  "cells": [
    {
      "cell_type": "code",
      "source": [
        "import numpy as np\n",
        "import sympy as sp\n",
        "import matplotlib.pyplot as plt\n",
        "import schemdraw\n",
        "import schemdraw.elements as elm\n",
        "sp.init_printing()\n",
        "%matplotlib inline"
      ],
      "outputs": [],
      "execution_count": 1,
      "metadata": {
        "collapsed": true,
        "jupyter": {
          "source_hidden": false,
          "outputs_hidden": false
        },
        "nteract": {
          "transient": {
            "deleting": false
          }
        },
        "execution": {
          "iopub.status.busy": "2024-11-11T07:26:46.651Z",
          "iopub.execute_input": "2024-11-11T07:26:46.666Z",
          "shell.execute_reply": "2024-11-11T07:26:46.504Z",
          "iopub.status.idle": "2024-11-11T07:26:46.681Z"
        }
      }
    },
    {
      "cell_type": "markdown",
      "source": [
        "A resistor devider is needed to lower the voltage level of the amplifier command voltage used for lab 4 to a lower voltage. The design of this divider must take into account the input impedance of the amplifer."
      ],
      "metadata": {
        "nteract": {
          "transient": {
            "deleting": false
          }
        }
      }
    },
    {
      "cell_type": "markdown",
      "source": [
        "The circuit we will be analyzing is shown below."
      ],
      "metadata": {
        "nteract": {
          "transient": {
            "deleting": false
          }
        }
      }
    },
    {
      "cell_type": "code",
      "source": [
        "d = schemdraw.Drawing()\n",
        "d.add(elm.Dot(at=(0, 0), label=\"$V_{in}$\"))\n",
        "d.add(elm.Resistor(d='r', label=\"$R_1$\"))\n",
        "d.add(elm.Line(d='r'))\n",
        "d.add(elm.Resistor(d='d', label=\"$R_{in}$\"))\n",
        "d.add(elm.Line(d='l', l=1.5))\n",
        "d.add(elm.Ground())\n",
        "d.add(elm.Line(d='l', l=1.5))\n",
        "d.add(elm.Resistor(d='u', label=\"$R_2$\"))\n",
        "d.add(elm.Line(d='r', at=(6, 0), l=1))\n",
        "d.add(elm.Dot(label=\"$V_{out}$\"))\n",
        "d.draw()"
      ],
      "outputs": [
        {
          "output_type": "execute_result",
          "execution_count": 2,
          "data": {
            "text/plain": "<schemdraw.backends.mpl.Figure object at 0x7f02635ddac0>",
            "image/svg+xml": "<?xml version=\"1.0\" encoding=\"utf-8\" standalone=\"no\"?>\n<!DOCTYPE svg PUBLIC \"-//W3C//DTD SVG 1.1//EN\"\n  \"http://www.w3.org/Graphics/SVG/1.1/DTD/svg11.dtd\">\n<svg xmlns:xlink=\"http://www.w3.org/1999/xlink\" width=\"289.5pt\" height=\"164.2pt\" viewBox=\"0 0 289.5 164.2\" xmlns=\"http://www.w3.org/2000/svg\" version=\"1.1\">\n <metadata>\n  <rdf:RDF xmlns:dc=\"http://purl.org/dc/elements/1.1/\" xmlns:cc=\"http://creativecommons.org/ns#\" xmlns:rdf=\"http://www.w3.org/1999/02/22-rdf-syntax-ns#\">\n   <cc:Work>\n    <dc:type rdf:resource=\"http://purl.org/dc/dcmitype/StillImage\"/>\n    <dc:date>2024-11-10T23:26:45.467117</dc:date>\n    <dc:format>image/svg+xml</dc:format>\n    <dc:creator>\n     <cc:Agent>\n      <dc:title>Matplotlib v3.7.5, https://matplotlib.org/</dc:title>\n     </cc:Agent>\n    </dc:creator>\n   </cc:Work>\n  </rdf:RDF>\n </metadata>\n <defs>\n  <style type=\"text/css\">*{stroke-linejoin: round; stroke-linecap: butt}</style>\n </defs>\n <g id=\"figure_1\">\n  <g id=\"patch_1\">\n   <path d=\"M 0 164.2 \nL 289.5 164.2 \nL 289.5 0 \nL 0 0 \nL 0 164.2 \nz\n\" style=\"fill: none\"/>\n  </g>\n  <g id=\"axes_1\">\n   <g id=\"line2d_1\">\n    <path d=\"M 16.482 28.48 \nL 52.482 28.48 \nL 55.482 19.48 \nL 61.482 37.48 \nL 67.482 19.48 \nL 73.482 37.48 \nL 79.482 19.48 \nL 85.482 37.48 \nL 88.482 28.48 \nL 124.482 28.48 \n\" clip-path=\"url(#p905e6ef14a)\" style=\"fill: none; stroke: #000000; stroke-width: 2; stroke-linecap: round\"/>\n   </g>\n   <g id=\"line2d_2\">\n    <path d=\"M 124.482 28.48 \nL 178.482 28.48 \nL 232.482 28.48 \n\" clip-path=\"url(#p905e6ef14a)\" style=\"fill: none; stroke: #000000; stroke-width: 2; stroke-linecap: round\"/>\n   </g>\n   <g id=\"line2d_3\">\n    <path d=\"M 232.482 28.48 \nL 232.482 64.48 \nL 241.482 67.48 \nL 223.482 73.48 \nL 241.482 79.48 \nL 223.482 85.48 \nL 241.482 91.48 \nL 223.482 97.48 \nL 232.482 100.48 \nL 232.482 136.48 \n\" clip-path=\"url(#p905e6ef14a)\" style=\"fill: none; stroke: #000000; stroke-width: 2; stroke-linecap: round\"/>\n   </g>\n   <g id=\"line2d_4\">\n    <path d=\"M 232.482 136.48 \nL 205.482 136.48 \nL 178.482 136.48 \n\" clip-path=\"url(#p905e6ef14a)\" style=\"fill: none; stroke: #000000; stroke-width: 2; stroke-linecap: round\"/>\n   </g>\n   <g id=\"line2d_5\">\n    <path d=\"M 178.482 136.48 \nL 178.482 150.88 \nL 169.482 150.88 \nL 187.482 150.88 \nM 172.182 155.2 \nL 184.782 155.2 \nM 176.682 159.52 \nL 180.282 159.52 \n\" clip-path=\"url(#p905e6ef14a)\" style=\"fill: none; stroke: #000000; stroke-width: 2; stroke-linecap: round\"/>\n   </g>\n   <g id=\"line2d_6\">\n    <path d=\"M 178.482 136.48 \nL 151.482 136.48 \nL 124.482 136.48 \n\" clip-path=\"url(#p905e6ef14a)\" style=\"fill: none; stroke: #000000; stroke-width: 2; stroke-linecap: round\"/>\n   </g>\n   <g id=\"line2d_7\">\n    <path d=\"M 124.482 136.48 \nL 124.482 100.48 \nL 115.482 97.48 \nL 133.482 91.48 \nL 115.482 85.48 \nL 133.482 79.48 \nL 115.482 73.48 \nL 133.482 67.48 \nL 124.482 64.48 \nL 124.482 28.48 \n\" clip-path=\"url(#p905e6ef14a)\" style=\"fill: none; stroke: #000000; stroke-width: 2; stroke-linecap: round\"/>\n   </g>\n   <g id=\"line2d_8\">\n    <path d=\"M 232.482 28.48 \nL 250.482 28.48 \nL 268.482 28.48 \n\" clip-path=\"url(#p905e6ef14a)\" style=\"fill: none; stroke: #000000; stroke-width: 2; stroke-linecap: round\"/>\n   </g>\n   <g id=\"text_1\">\n    <!-- $R_1$ -->\n    <g transform=\"translate(62.292 12.968437) scale(0.14 -0.14)\">\n     <defs>\n      <path id=\"DejaVuSans-Oblique-52\" d=\"M 1613 4147 \nL 1294 2491 \nL 2106 2491 \nQ 2584 2491 2879 2755 \nQ 3175 3019 3175 3444 \nQ 3175 3784 2976 3965 \nQ 2778 4147 2406 4147 \nL 1613 4147 \nz\nM 2772 2241 \nQ 2972 2194 3105 2009 \nQ 3238 1825 3413 1275 \nL 3809 0 \nL 3144 0 \nL 2778 1197 \nQ 2638 1659 2453 1815 \nQ 2269 1972 1888 1972 \nL 1191 1972 \nL 806 0 \nL 172 0 \nL 1081 4666 \nL 2503 4666 \nQ 3150 4666 3495 4373 \nQ 3841 4081 3841 3531 \nQ 3841 3044 3547 2687 \nQ 3253 2331 2772 2241 \nz\n\" transform=\"scale(0.015625)\"/>\n      <path id=\"DejaVuSans-31\" d=\"M 794 531 \nL 1825 531 \nL 1825 4091 \nL 703 3866 \nL 703 4441 \nL 1819 4666 \nL 2450 4666 \nL 2450 531 \nL 3481 531 \nL 3481 0 \nL 794 0 \nL 794 531 \nz\n\" transform=\"scale(0.015625)\"/>\n     </defs>\n     <use xlink:href=\"#DejaVuSans-Oblique-52\" transform=\"translate(0 0.09375)\"/>\n     <use xlink:href=\"#DejaVuSans-31\" transform=\"translate(69.482422 -16.3125) scale(0.7)\"/>\n    </g>\n   </g>\n   <g id=\"text_2\">\n    <!-- $R_{in}$ -->\n    <g transform=\"translate(200.702 86.343125) scale(0.14 -0.14)\">\n     <defs>\n      <path id=\"DejaVuSans-Oblique-69\" d=\"M 1172 4863 \nL 1747 4863 \nL 1606 4134 \nL 1031 4134 \nL 1172 4863 \nz\nM 909 3500 \nL 1484 3500 \nL 800 0 \nL 225 0 \nL 909 3500 \nz\n\" transform=\"scale(0.015625)\"/>\n      <path id=\"DejaVuSans-Oblique-6e\" d=\"M 3566 2113 \nL 3156 0 \nL 2578 0 \nL 2988 2091 \nQ 3016 2238 3031 2350 \nQ 3047 2463 3047 2528 \nQ 3047 2791 2881 2937 \nQ 2716 3084 2419 3084 \nQ 1956 3084 1622 2776 \nQ 1288 2469 1184 1941 \nL 800 0 \nL 225 0 \nL 903 3500 \nL 1478 3500 \nL 1363 2950 \nQ 1603 3253 1940 3418 \nQ 2278 3584 2650 3584 \nQ 3113 3584 3367 3334 \nQ 3622 3084 3622 2631 \nQ 3622 2519 3608 2391 \nQ 3594 2263 3566 2113 \nz\n\" transform=\"scale(0.015625)\"/>\n     </defs>\n     <use xlink:href=\"#DejaVuSans-Oblique-52\" transform=\"translate(0 0.09375)\"/>\n     <use xlink:href=\"#DejaVuSans-Oblique-69\" transform=\"translate(69.482422 -16.3125) scale(0.7)\"/>\n     <use xlink:href=\"#DejaVuSans-Oblique-6e\" transform=\"translate(88.930664 -16.3125) scale(0.7)\"/>\n    </g>\n   </g>\n   <g id=\"text_3\">\n    <!-- $R_2$ -->\n    <g transform=\"translate(95.502 86.343125) scale(0.14 -0.14)\">\n     <defs>\n      <path id=\"DejaVuSans-32\" d=\"M 1228 531 \nL 3431 531 \nL 3431 0 \nL 469 0 \nL 469 531 \nQ 828 903 1448 1529 \nQ 2069 2156 2228 2338 \nQ 2531 2678 2651 2914 \nQ 2772 3150 2772 3378 \nQ 2772 3750 2511 3984 \nQ 2250 4219 1831 4219 \nQ 1534 4219 1204 4116 \nQ 875 4013 500 3803 \nL 500 4441 \nQ 881 4594 1212 4672 \nQ 1544 4750 1819 4750 \nQ 2544 4750 2975 4387 \nQ 3406 4025 3406 3419 \nQ 3406 3131 3298 2873 \nQ 3191 2616 2906 2266 \nQ 2828 2175 2409 1742 \nQ 1991 1309 1228 531 \nz\n\" transform=\"scale(0.015625)\"/>\n     </defs>\n     <use xlink:href=\"#DejaVuSans-Oblique-52\" transform=\"translate(0 0.09375)\"/>\n     <use xlink:href=\"#DejaVuSans-32\" transform=\"translate(69.482422 -16.3125) scale(0.7)\"/>\n    </g>\n   </g>\n   <g id=\"patch_2\">\n    <path d=\"M 16.482 31.18 \nC 17.198048 31.18 17.884866 30.895511 18.391188 30.389188 \nC 18.897511 29.882866 19.182 29.196048 19.182 28.48 \nC 19.182 27.763952 18.897511 27.077134 18.391188 26.570812 \nC 17.884866 26.064489 17.198048 25.78 16.482 25.78 \nC 15.765952 25.78 15.079134 26.064489 14.572812 26.570812 \nC 14.066489 27.077134 13.782 27.763952 13.782 28.48 \nC 13.782 29.196048 14.066489 29.882866 14.572812 30.389188 \nC 15.079134 30.895511 15.765952 31.18 16.482 31.18 \nz\n\" clip-path=\"url(#p905e6ef14a)\" style=\"stroke: #000000; stroke-width: 2; stroke-linejoin: miter\"/>\n   </g>\n   <g id=\"text_4\">\n    <!-- $V_{in}$ -->\n    <g transform=\"translate(7.032 19.268437) scale(0.14 -0.14)\">\n     <defs>\n      <path id=\"DejaVuSans-Oblique-56\" d=\"M 1319 0 \nL 500 4666 \nL 1119 4666 \nL 1797 653 \nL 4063 4666 \nL 4750 4666 \nL 2053 0 \nL 1319 0 \nz\n\" transform=\"scale(0.015625)\"/>\n     </defs>\n     <use xlink:href=\"#DejaVuSans-Oblique-56\" transform=\"translate(0 0.09375)\"/>\n     <use xlink:href=\"#DejaVuSans-Oblique-69\" transform=\"translate(68.408203 -16.3125) scale(0.7)\"/>\n     <use xlink:href=\"#DejaVuSans-Oblique-6e\" transform=\"translate(87.856445 -16.3125) scale(0.7)\"/>\n    </g>\n   </g>\n   <g id=\"patch_3\">\n    <path d=\"M 268.482 31.18 \nC 269.198048 31.18 269.884866 30.895511 270.391188 30.389188 \nC 270.897511 29.882866 271.182 29.196048 271.182 28.48 \nC 271.182 27.763952 270.897511 27.077134 270.391188 26.570812 \nC 269.884866 26.064489 269.198048 25.78 268.482 25.78 \nC 267.765952 25.78 267.079134 26.064489 266.572812 26.570812 \nC 266.066489 27.077134 265.782 27.763952 265.782 28.48 \nC 265.782 29.196048 266.066489 29.882866 266.572812 30.389188 \nC 267.079134 30.895511 267.765952 31.18 268.482 31.18 \nz\n\" clip-path=\"url(#p905e6ef14a)\" style=\"stroke: #000000; stroke-width: 2; stroke-linejoin: miter\"/>\n   </g>\n   <g id=\"text_5\">\n    <!-- $V_{out}$ -->\n    <g transform=\"translate(255.462 19.268437) scale(0.14 -0.14)\">\n     <defs>\n      <path id=\"DejaVuSans-Oblique-6f\" d=\"M 1625 -91 \nQ 1009 -91 651 289 \nQ 294 669 294 1325 \nQ 294 1706 417 2101 \nQ 541 2497 738 2766 \nQ 1047 3184 1428 3384 \nQ 1809 3584 2291 3584 \nQ 2888 3584 3255 3212 \nQ 3622 2841 3622 2241 \nQ 3622 1825 3500 1412 \nQ 3378 1000 3181 728 \nQ 2875 309 2494 109 \nQ 2113 -91 1625 -91 \nz\nM 891 1344 \nQ 891 869 1089 633 \nQ 1288 397 1691 397 \nQ 2269 397 2648 901 \nQ 3028 1406 3028 2181 \nQ 3028 2634 2825 2865 \nQ 2622 3097 2228 3097 \nQ 1903 3097 1650 2945 \nQ 1397 2794 1197 2484 \nQ 1050 2253 970 1956 \nQ 891 1659 891 1344 \nz\n\" transform=\"scale(0.015625)\"/>\n      <path id=\"DejaVuSans-Oblique-75\" d=\"M 428 1388 \nL 838 3500 \nL 1416 3500 \nL 1006 1409 \nQ 975 1256 961 1147 \nQ 947 1038 947 966 \nQ 947 700 1109 554 \nQ 1272 409 1569 409 \nQ 2031 409 2368 721 \nQ 2706 1034 2809 1563 \nL 3194 3500 \nL 3769 3500 \nL 3091 0 \nL 2516 0 \nL 2631 550 \nQ 2388 244 2052 76 \nQ 1716 -91 1338 -91 \nQ 878 -91 622 161 \nQ 366 413 366 863 \nQ 366 956 381 1097 \nQ 397 1238 428 1388 \nz\n\" transform=\"scale(0.015625)\"/>\n      <path id=\"DejaVuSans-Oblique-74\" d=\"M 2706 3500 \nL 2619 3053 \nL 1472 3053 \nL 1100 1153 \nQ 1081 1047 1072 975 \nQ 1063 903 1063 863 \nQ 1063 663 1183 572 \nQ 1303 481 1569 481 \nL 2150 481 \nL 2053 0 \nL 1503 0 \nQ 991 0 739 200 \nQ 488 400 488 806 \nQ 488 878 497 964 \nQ 506 1050 525 1153 \nL 897 3053 \nL 409 3053 \nL 500 3500 \nL 978 3500 \nL 1172 4494 \nL 1747 4494 \nL 1556 3500 \nL 2706 3500 \nz\n\" transform=\"scale(0.015625)\"/>\n     </defs>\n     <use xlink:href=\"#DejaVuSans-Oblique-56\" transform=\"translate(0 0.09375)\"/>\n     <use xlink:href=\"#DejaVuSans-Oblique-6f\" transform=\"translate(68.408203 -16.3125) scale(0.7)\"/>\n     <use xlink:href=\"#DejaVuSans-Oblique-75\" transform=\"translate(111.235352 -16.3125) scale(0.7)\"/>\n     <use xlink:href=\"#DejaVuSans-Oblique-74\" transform=\"translate(155.600586 -16.3125) scale(0.7)\"/>\n    </g>\n   </g>\n  </g>\n </g>\n <defs>\n  <clipPath id=\"p905e6ef14a\">\n   <rect x=\"0\" y=\"0\" width=\"289.5\" height=\"164.2\"/>\n  </clipPath>\n </defs>\n</svg>\n",
            "image/png": "[encoded data removed]"
          },
          "metadata": {}
        }
      ],
      "execution_count": 2,
      "metadata": {
        "collapsed": true,
        "jupyter": {
          "source_hidden": false,
          "outputs_hidden": false
        },
        "nteract": {
          "transient": {
            "deleting": false
          }
        },
        "execution": {
          "iopub.status.busy": "2024-11-11T07:26:46.701Z",
          "iopub.execute_input": "2024-11-11T07:26:46.715Z",
          "iopub.status.idle": "2024-11-11T07:26:46.740Z",
          "shell.execute_reply": "2024-11-11T07:26:46.518Z"
        }
      }
    },
    {
      "cell_type": "markdown",
      "source": [
        "In this circuit, the values of one of the resistor is known."
      ],
      "metadata": {
        "nteract": {
          "transient": {
            "deleting": false
          }
        }
      }
    },
    {
      "cell_type": "code",
      "source": [
        "Rin = 100_000 # Ohms"
      ],
      "outputs": [],
      "execution_count": 3,
      "metadata": {
        "collapsed": true,
        "jupyter": {
          "source_hidden": false,
          "outputs_hidden": false
        },
        "nteract": {
          "transient": {
            "deleting": false
          }
        },
        "execution": {
          "iopub.status.busy": "2024-11-11T07:26:46.762Z",
          "iopub.execute_input": "2024-11-11T07:26:46.778Z",
          "iopub.status.idle": "2024-11-11T07:26:46.794Z",
          "shell.execute_reply": "2024-11-11T07:26:46.532Z"
        }
      }
    },
    {
      "cell_type": "markdown",
      "source": [
        "When measured, the input to this voltage divider is:"
      ],
      "metadata": {
        "nteract": {
          "transient": {
            "deleting": false
          }
        }
      }
    },
    {
      "cell_type": "code",
      "source": [
        "Vin = 3.1 # Volts"
      ],
      "outputs": [],
      "execution_count": 4,
      "metadata": {
        "collapsed": true,
        "jupyter": {
          "source_hidden": false,
          "outputs_hidden": false
        },
        "nteract": {
          "transient": {
            "deleting": false
          }
        },
        "execution": {
          "shell.execute_reply": "2024-11-11T07:26:46.553Z",
          "iopub.status.busy": "2024-11-11T07:26:46.816Z",
          "iopub.execute_input": "2024-11-11T07:26:46.830Z",
          "iopub.status.idle": "2024-11-11T07:26:46.845Z"
        }
      }
    },
    {
      "cell_type": "markdown",
      "source": [
        "To find $V_{out}$, we begin with the desired current:"
      ],
      "metadata": {
        "nteract": {
          "transient": {
            "deleting": false
          }
        }
      }
    },
    {
      "cell_type": "code",
      "source": [
        "Iout = 0.05 # Amps"
      ],
      "outputs": [],
      "execution_count": 5,
      "metadata": {
        "collapsed": true,
        "jupyter": {
          "source_hidden": false,
          "outputs_hidden": false
        },
        "nteract": {
          "transient": {
            "deleting": false
          }
        },
        "execution": {
          "iopub.status.busy": "2024-11-11T07:26:46.865Z",
          "iopub.execute_input": "2024-11-11T07:26:46.880Z",
          "iopub.status.idle": "2024-11-11T07:26:46.894Z",
          "shell.execute_reply": "2024-11-11T07:26:46.570Z"
        }
      }
    },
    {
      "cell_type": "markdown",
      "source": [
        "Since the amplifier gain is:"
      ],
      "metadata": {
        "nteract": {
          "transient": {
            "deleting": false
          }
        }
      }
    },
    {
      "cell_type": "code",
      "source": [
        "Ka = 0.06 # A / V"
      ],
      "outputs": [],
      "execution_count": 6,
      "metadata": {
        "collapsed": true,
        "jupyter": {
          "source_hidden": false,
          "outputs_hidden": false
        },
        "nteract": {
          "transient": {
            "deleting": false
          }
        },
        "execution": {
          "iopub.status.busy": "2024-11-11T07:26:46.916Z",
          "iopub.execute_input": "2024-11-11T07:26:46.929Z",
          "iopub.status.idle": "2024-11-11T07:26:46.946Z",
          "shell.execute_reply": "2024-11-11T07:26:46.584Z"
        }
      }
    },
    {
      "cell_type": "markdown",
      "source": [
        "Therefore, the desired voltage is:"
      ],
      "metadata": {
        "nteract": {
          "transient": {
            "deleting": false
          }
        }
      }
    },
    {
      "cell_type": "code",
      "source": [
        "Vout = Iout / Ka\n",
        "print(f\"{Vout} Volts\")"
      ],
      "outputs": [
        {
          "output_type": "stream",
          "name": "stdout",
          "text": [
            "0.8333333333333334 Volts\n"
          ]
        }
      ],
      "execution_count": 7,
      "metadata": {
        "collapsed": true,
        "jupyter": {
          "source_hidden": false,
          "outputs_hidden": false
        },
        "nteract": {
          "transient": {
            "deleting": false
          }
        },
        "execution": {
          "iopub.status.busy": "2024-11-11T07:26:47.093Z",
          "iopub.execute_input": "2024-11-11T07:26:47.110Z",
          "iopub.status.idle": "2024-11-11T07:26:47.136Z",
          "shell.execute_reply": "2024-11-11T07:26:46.598Z"
        }
      }
    },
    {
      "cell_type": "markdown",
      "source": [
        "Using these values, we can now begin to solve for $R_1$ and $R_2$."
      ],
      "metadata": {
        "nteract": {
          "transient": {
            "deleting": false
          }
        }
      }
    },
    {
      "cell_type": "code",
      "source": [
        "sp.var(\"R_1 R_2\")"
      ],
      "outputs": [
        {
          "output_type": "execute_result",
          "execution_count": 8,
          "data": {
            "text/plain": "(R₁, R₂)",
            "image/png": "[encoded data removed]",
            "text/latex": "$\\displaystyle \\left( R_{1}, \\  R_{2}\\right)$"
          },
          "metadata": {}
        }
      ],
      "execution_count": 8,
      "metadata": {
        "collapsed": true,
        "jupyter": {
          "source_hidden": false,
          "outputs_hidden": false
        },
        "nteract": {
          "transient": {
            "deleting": false
          }
        },
        "execution": {
          "iopub.status.busy": "2024-11-11T07:26:47.158Z",
          "iopub.execute_input": "2024-11-11T07:26:47.172Z",
          "iopub.status.idle": "2024-11-11T07:26:47.445Z",
          "shell.execute_reply": "2024-11-11T07:26:46.613Z"
        }
      }
    },
    {
      "cell_type": "markdown",
      "source": [
        "The amplifier input impedance ($R_{in}$) and the second resistor of the divider ($R_2$) can be combined together:"
      ],
      "metadata": {
        "nteract": {
          "transient": {
            "deleting": false
          }
        }
      }
    },
    {
      "cell_type": "code",
      "source": [
        "R_2_in = 1 / (1 / R_2 + 1 / Rin)\n",
        "R_2_in"
      ],
      "outputs": [
        {
          "output_type": "execute_result",
          "execution_count": 9,
          "data": {
            "text/plain": "     1     \n───────────\n         1 \n1.0e-5 + ──\n         R₂",
            "image/png": "[encoded data removed]",
            "text/latex": "$\\displaystyle \\frac{1}{1.0 \\cdot 10^{-5} + \\frac{1}{R_{2}}}$"
          },
          "metadata": {}
        }
      ],
      "execution_count": 9,
      "metadata": {
        "collapsed": true,
        "jupyter": {
          "source_hidden": false,
          "outputs_hidden": false
        },
        "nteract": {
          "transient": {
            "deleting": false
          }
        },
        "execution": {
          "iopub.status.busy": "2024-11-11T07:26:47.467Z",
          "iopub.execute_input": "2024-11-11T07:26:47.479Z",
          "iopub.status.idle": "2024-11-11T07:26:47.518Z",
          "shell.execute_reply": "2024-11-11T07:26:47.676Z"
        }
      }
    },
    {
      "cell_type": "markdown",
      "source": [
        "The equation for the output voltage $V_{out}$ can now be written,"
      ],
      "metadata": {
        "nteract": {
          "transient": {
            "deleting": false
          }
        }
      }
    },
    {
      "cell_type": "code",
      "source": [
        "divider = sp.Eq(Vout, Vin * R_2_in / (R_2_in + R_1))\n",
        "divider"
      ],
      "outputs": [
        {
          "output_type": "execute_result",
          "execution_count": 10,
          "data": {
            "text/plain": "                                  3.1               \n0.833333333333333 = ────────────────────────────────\n                    ⎛         1 ⎞ ⎛          1     ⎞\n                    ⎜1.0e-5 + ──⎟⋅⎜R₁ + ───────────⎟\n                    ⎝         R₂⎠ ⎜              1 ⎟\n                                  ⎜     1.0e-5 + ──⎟\n                                  ⎝              R₂⎠",
            "image/png": "[encoded data removed]",
            "text/latex": "$\\displaystyle 0.833333333333333 = \\frac{3.1}{\\left(1.0 \\cdot 10^{-5} + \\frac{1}{R_{2}}\\right) \\left(R_{1} + \\frac{1}{1.0 \\cdot 10^{-5} + \\frac{1}{R_{2}}}\\right)}$"
          },
          "metadata": {}
        }
      ],
      "execution_count": 10,
      "metadata": {
        "collapsed": true,
        "jupyter": {
          "source_hidden": false,
          "outputs_hidden": false
        },
        "nteract": {
          "transient": {
            "deleting": false
          }
        },
        "execution": {
          "iopub.status.busy": "2024-11-11T07:26:47.538Z",
          "iopub.execute_input": "2024-11-11T07:26:47.551Z",
          "iopub.status.idle": "2024-11-11T07:26:47.601Z",
          "shell.execute_reply": "2024-11-11T07:26:47.686Z"
        }
      }
    },
    {
      "cell_type": "markdown",
      "source": [
        "This equation can now be solved for $R_1$."
      ],
      "metadata": {
        "nteract": {
          "transient": {
            "deleting": false
          }
        }
      }
    },
    {
      "cell_type": "code",
      "source": [
        "sols = sp.solve(divider, R_1)\n",
        "assert len(sols) == 1\n",
        "sol = sols[0]\n",
        "sol"
      ],
      "outputs": [
        {
          "output_type": "execute_result",
          "execution_count": 11,
          "data": {
            "text/plain": " 272000.0⋅R₂ \n─────────────\nR₂ + 100000.0",
            "image/png": "[encoded data removed]",
            "text/latex": "$\\displaystyle \\frac{272000.0 R_{2}}{R_{2} + 100000.0}$"
          },
          "metadata": {}
        }
      ],
      "execution_count": 11,
      "metadata": {
        "collapsed": true,
        "jupyter": {
          "source_hidden": false,
          "outputs_hidden": false
        },
        "nteract": {
          "transient": {
            "deleting": false
          }
        },
        "execution": {
          "iopub.status.busy": "2024-11-11T07:26:47.623Z",
          "iopub.execute_input": "2024-11-11T07:26:47.637Z",
          "iopub.status.idle": "2024-11-11T07:26:47.781Z",
          "shell.execute_reply": "2024-11-11T07:26:47.878Z"
        }
      }
    },
    {
      "cell_type": "markdown",
      "source": [
        "A function now can be created for finding $R_1$ from $R_2$."
      ],
      "metadata": {
        "nteract": {
          "transient": {
            "deleting": false
          }
        }
      }
    },
    {
      "cell_type": "code",
      "source": [
        "calc_R1 = sp.lambdify(R_2, sol)"
      ],
      "outputs": [],
      "execution_count": 12,
      "metadata": {
        "collapsed": true,
        "jupyter": {
          "source_hidden": false,
          "outputs_hidden": false
        },
        "nteract": {
          "transient": {
            "deleting": false
          }
        },
        "execution": {
          "iopub.status.busy": "2024-11-11T07:26:47.822Z",
          "iopub.execute_input": "2024-11-11T07:26:47.850Z",
          "iopub.status.idle": "2024-11-11T07:26:48.303Z",
          "shell.execute_reply": "2024-11-11T07:26:48.171Z"
        }
      }
    },
    {
      "cell_type": "markdown",
      "source": [
        "The hard part about this design problem is the resistor choices are limited. Resistors are primarily only available in the E-series:"
      ],
      "metadata": {
        "nteract": {
          "transient": {
            "deleting": false
          }
        }
      }
    },
    {
      "cell_type": "code",
      "source": [
        "Eseries = np.array([1, 1.2, 1.5, 1.8, 2.2, 2.7, 3.3, 3.9, 4.7, 5.6, 6.8, 8.2])\n",
        "\n",
        "@np.vectorize\n",
        "def find_closest(value):\n",
        "  assert value > 0\n",
        "  series = np.hstack([Eseries, 10 * Eseries])\n",
        "  while True:\n",
        "    if value > series.max():\n",
        "      series *= 10\n",
        "    elif value < series.min():\n",
        "      series /= 10\n",
        "    else:\n",
        "      break\n",
        "  return series[np.abs(series - value).argmin()]\n",
        "  "
      ],
      "outputs": [],
      "execution_count": 13,
      "metadata": {
        "collapsed": true,
        "jupyter": {
          "source_hidden": false,
          "outputs_hidden": false
        },
        "nteract": {
          "transient": {
            "deleting": false
          }
        },
        "execution": {
          "iopub.status.busy": "2024-11-11T07:26:48.348Z",
          "iopub.execute_input": "2024-11-11T07:26:48.377Z",
          "iopub.status.idle": "2024-11-11T07:26:48.399Z",
          "shell.execute_reply": "2024-11-11T07:26:48.181Z"
        }
      }
    },
    {
      "cell_type": "markdown",
      "source": [
        "We can assume values for R2, then solve for R1."
      ],
      "metadata": {
        "nteract": {
          "transient": {
            "deleting": false
          }
        }
      }
    },
    {
      "cell_type": "code",
      "source": [
        "R2 = np.hstack((1000 * Eseries, 10000 * Eseries))\n",
        "R2"
      ],
      "outputs": [
        {
          "output_type": "execute_result",
          "execution_count": 14,
          "data": {
            "text/plain": "array([ 1000.,  1200.,  1500.,  1800.,  2200.,  2700.,  3300.,  3900.,\n        4700.,  5600.,  6800.,  8200., 10000., 12000., 15000., 18000.,\n       22000., 27000., 33000., 39000., 47000., 56000., 68000., 82000.])"
          },
          "metadata": {}
        }
      ],
      "execution_count": 14,
      "metadata": {
        "collapsed": true,
        "jupyter": {
          "source_hidden": false,
          "outputs_hidden": false
        },
        "nteract": {
          "transient": {
            "deleting": false
          }
        },
        "execution": {
          "iopub.status.busy": "2024-11-11T07:26:48.418Z",
          "iopub.execute_input": "2024-11-11T07:26:48.432Z",
          "iopub.status.idle": "2024-11-11T07:26:48.466Z",
          "shell.execute_reply": "2024-11-11T07:26:48.198Z"
        }
      }
    },
    {
      "cell_type": "markdown",
      "source": [
        "We can now solve for the value of the R1, given R2:"
      ],
      "metadata": {
        "nteract": {
          "transient": {
            "deleting": false
          }
        }
      }
    },
    {
      "cell_type": "code",
      "source": [
        "R1 = find_closest(calc_R1(R2))\n",
        "print(R1)"
      ],
      "outputs": [
        {
          "output_type": "stream",
          "name": "stdout",
          "text": [
            "[  2700.   3300.   3900.   4700.   5600.   6800.   8200.  10000.  12000.\n",
            "  15000.  18000.  22000.  27000.  27000.  33000.  39000.  47000.  56000.\n",
            "  68000.  82000.  82000. 100000. 120000. 120000.]\n"
          ]
        }
      ],
      "execution_count": 15,
      "metadata": {
        "collapsed": true,
        "jupyter": {
          "source_hidden": false,
          "outputs_hidden": false
        },
        "nteract": {
          "transient": {
            "deleting": false
          }
        },
        "execution": {
          "iopub.status.busy": "2024-11-11T07:26:48.488Z",
          "iopub.execute_input": "2024-11-11T07:26:48.501Z",
          "shell.execute_reply": "2024-11-11T07:26:48.216Z",
          "iopub.status.idle": "2024-11-11T07:26:48.525Z"
        }
      }
    },
    {
      "cell_type": "code",
      "source": [
        "calc_V_out = sp.lambdify((R_1, R_2), divider.rhs)"
      ],
      "outputs": [],
      "execution_count": 16,
      "metadata": {
        "collapsed": true,
        "jupyter": {
          "source_hidden": false,
          "outputs_hidden": false
        },
        "nteract": {
          "transient": {
            "deleting": false
          }
        },
        "execution": {
          "iopub.status.busy": "2024-11-11T07:26:48.545Z",
          "iopub.execute_input": "2024-11-11T07:26:48.559Z",
          "iopub.status.idle": "2024-11-11T07:26:48.576Z",
          "shell.execute_reply": "2024-11-11T07:26:48.233Z"
        }
      }
    },
    {
      "cell_type": "markdown",
      "source": [
        "We can now find the output of each divider:"
      ],
      "metadata": {
        "nteract": {
          "transient": {
            "deleting": false
          }
        }
      }
    },
    {
      "cell_type": "code",
      "source": [
        "Vout_act = calc_V_out(R1, R2)\n",
        "Vout_act"
      ],
      "outputs": [
        {
          "output_type": "execute_result",
          "execution_count": 17,
          "data": {
            "text/plain": "array([0.83176818, 0.81945546, 0.85188239, 0.84743189, 0.86076333,\n       0.86434797, 0.86911457, 0.84604619, 0.84395273, 0.80970149,\n       0.81002152, 0.79427572, 0.78085642, 0.88068182, 0.87818697,\n       0.87160262, 0.85959163, 0.8530371 , 0.82874271, 0.79029939,\n       0.86964307, 0.81886792, 0.78189911, 0.84620506])"
          },
          "metadata": {}
        }
      ],
      "execution_count": 17,
      "metadata": {
        "collapsed": true,
        "jupyter": {
          "source_hidden": false,
          "outputs_hidden": false
        },
        "nteract": {
          "transient": {
            "deleting": false
          }
        },
        "execution": {
          "iopub.status.busy": "2024-11-11T07:26:48.597Z",
          "iopub.execute_input": "2024-11-11T07:26:48.609Z",
          "iopub.status.idle": "2024-11-11T07:26:48.631Z",
          "shell.execute_reply": "2024-11-11T07:26:48.253Z"
        }
      }
    },
    {
      "cell_type": "code",
      "source": [
        "plt.bar(range(Vout_act.size), Vout_act)\n",
        "plt.ylabel(\"Actual Output Voltage\")\n",
        "plt.xlabel(\"Voltage Divider\");"
      ],
      "outputs": [
        {
          "output_type": "display_data",
          "data": {
            "text/plain": "<Figure size 432x288 with 1 Axes>",
            "image/png": "[encoded data removed]"
          },
          "metadata": {
            "needs_background": "light"
          }
        }
      ],
      "execution_count": 18,
      "metadata": {
        "collapsed": true,
        "jupyter": {
          "source_hidden": false,
          "outputs_hidden": false
        },
        "nteract": {
          "transient": {
            "deleting": false
          }
        },
        "execution": {
          "iopub.status.busy": "2024-11-11T07:26:48.650Z",
          "iopub.execute_input": "2024-11-11T07:26:48.662Z",
          "iopub.status.idle": "2024-11-11T07:26:48.695Z",
          "shell.execute_reply": "2024-11-11T07:26:48.956Z"
        }
      }
    },
    {
      "cell_type": "code",
      "source": [
        "percent_error = 100 * np.abs((Vout_act - Vout) / Vout)\n",
        "plt.bar(range(percent_error.size), percent_error)\n",
        "plt.ylabel(\"Percent Error\")\n",
        "plt.xlabel(\"Voltage Divider\");"
      ],
      "outputs": [
        {
          "output_type": "display_data",
          "data": {
            "text/plain": "<Figure size 432x288 with 1 Axes>",
            "image/png": "[encoded data removed]"
          },
          "metadata": {
            "needs_background": "light"
          }
        }
      ],
      "execution_count": 19,
      "metadata": {
        "collapsed": true,
        "jupyter": {
          "source_hidden": false,
          "outputs_hidden": false
        },
        "nteract": {
          "transient": {
            "deleting": false
          }
        },
        "execution": {
          "iopub.status.busy": "2024-11-11T07:26:48.717Z",
          "iopub.execute_input": "2024-11-11T07:26:48.731Z",
          "iopub.status.idle": "2024-11-11T07:26:48.760Z",
          "shell.execute_reply": "2024-11-11T07:26:48.966Z"
        }
      }
    },
    {
      "cell_type": "markdown",
      "source": [
        "The best resistor divider is:"
      ],
      "metadata": {
        "nteract": {
          "transient": {
            "deleting": false
          }
        }
      }
    },
    {
      "cell_type": "code",
      "source": [
        "best = percent_error.argmin()\n",
        "best"
      ],
      "outputs": [
        {
          "output_type": "execute_result",
          "execution_count": 20,
          "data": {
            "text/plain": "0"
          },
          "metadata": {}
        }
      ],
      "execution_count": 20,
      "metadata": {
        "collapsed": true,
        "jupyter": {
          "source_hidden": false,
          "outputs_hidden": false
        },
        "nteract": {
          "transient": {
            "deleting": false
          }
        },
        "execution": {
          "iopub.status.busy": "2024-11-11T07:26:48.781Z",
          "iopub.execute_input": "2024-11-11T07:26:48.795Z",
          "iopub.status.idle": "2024-11-11T07:26:48.828Z",
          "shell.execute_reply": "2024-11-11T07:26:48.974Z"
        }
      }
    },
    {
      "cell_type": "markdown",
      "source": [
        "This resistor divider is composed of resistors with values:"
      ],
      "metadata": {
        "nteract": {
          "transient": {
            "deleting": false
          }
        }
      }
    },
    {
      "cell_type": "code",
      "source": [
        "print(f\"{R1[best]} and {R2[best]} ohms\")"
      ],
      "outputs": [
        {
          "output_type": "stream",
          "name": "stdout",
          "text": [
            "2700.0 and 1000.0 ohms\n"
          ]
        }
      ],
      "execution_count": 21,
      "metadata": {
        "collapsed": true,
        "jupyter": {
          "source_hidden": false,
          "outputs_hidden": false
        },
        "nteract": {
          "transient": {
            "deleting": false
          }
        },
        "execution": {
          "iopub.status.busy": "2024-11-11T07:26:48.851Z",
          "iopub.execute_input": "2024-11-11T07:26:48.865Z",
          "iopub.status.idle": "2024-11-11T07:26:48.894Z",
          "shell.execute_reply": "2024-11-11T07:26:48.982Z"
        }
      }
    },
    {
      "cell_type": "markdown",
      "source": [
        "It results in an output voltage of:"
      ],
      "metadata": {
        "nteract": {
          "transient": {
            "deleting": false
          }
        }
      }
    },
    {
      "cell_type": "code",
      "source": [
        "Vout_act[best]"
      ],
      "outputs": [
        {
          "output_type": "execute_result",
          "execution_count": 22,
          "data": {
            "text/plain": "0.8317681781593774",
            "image/png": "[encoded data removed]",
            "text/latex": "$\\displaystyle 0.831768178159377$"
          },
          "metadata": {}
        }
      ],
      "execution_count": 22,
      "metadata": {
        "collapsed": true,
        "jupyter": {
          "source_hidden": false,
          "outputs_hidden": false
        },
        "nteract": {
          "transient": {
            "deleting": false
          }
        },
        "execution": {
          "iopub.status.busy": "2024-11-11T07:26:48.916Z",
          "iopub.execute_input": "2024-11-11T07:26:48.929Z",
          "iopub.status.idle": "2024-11-11T07:26:49.203Z",
          "shell.execute_reply": "2024-11-11T07:26:49.352Z"
        }
      }
    },
    {
      "cell_type": "markdown",
      "source": [
        "Which has a percent error of:"
      ],
      "metadata": {
        "nteract": {
          "transient": {
            "deleting": false
          }
        }
      }
    },
    {
      "cell_type": "code",
      "source": [
        "print(f\"{percent_error[best]}%\")"
      ],
      "outputs": [
        {
          "output_type": "stream",
          "name": "stdout",
          "text": [
            "0.18781862087471346%\n"
          ]
        }
      ],
      "execution_count": 23,
      "metadata": {
        "collapsed": true,
        "jupyter": {
          "source_hidden": false,
          "outputs_hidden": false
        },
        "nteract": {
          "transient": {
            "deleting": false
          }
        },
        "execution": {
          "iopub.status.busy": "2024-11-11T07:26:49.224Z",
          "iopub.execute_input": "2024-11-11T07:26:49.239Z",
          "iopub.status.idle": "2024-11-11T07:26:49.269Z",
          "shell.execute_reply": "2024-11-11T07:26:49.361Z"
        }
      }
    },
    {
      "cell_type": "markdown",
      "source": [
        "Using these equations, the old amplifier input voltage is estimated at:"
      ],
      "metadata": {
        "nteract": {
          "transient": {
            "deleting": false
          }
        }
      }
    },
    {
      "cell_type": "code",
      "source": [
        "print(f\"{calc_V_out(22000, 8200)} Volts\")"
      ],
      "outputs": [
        {
          "output_type": "stream",
          "name": "stdout",
          "text": [
            "0.7942757155355581 Volts\n"
          ]
        }
      ],
      "execution_count": 24,
      "metadata": {
        "collapsed": true,
        "jupyter": {
          "source_hidden": false,
          "outputs_hidden": false
        },
        "nteract": {
          "transient": {
            "deleting": false
          }
        },
        "execution": {
          "iopub.status.busy": "2024-11-11T07:26:49.290Z",
          "iopub.execute_input": "2024-11-11T07:26:49.302Z",
          "iopub.status.idle": "2024-11-11T07:26:49.330Z",
          "shell.execute_reply": "2024-11-11T07:26:49.369Z"
        }
      }
    },
    {
      "cell_type": "markdown",
      "source": [
        "Which is close to the measured 7.6 Volts"
      ],
      "metadata": {
        "nteract": {
          "transient": {
            "deleting": false
          }
        }
      }
    },
    {
      "cell_type": "markdown",
      "source": [],
      "metadata": {
        "nteract": {
          "transient": {
            "deleting": false
          }
        }
      }
    }
  ],
  "metadata": {
    "kernel_info": {
      "name": "sagemath"
    },
    "language_info": {
      "name": "python",
      "version": "3.8.10",
      "mimetype": "text/x-python",
      "codemirror_mode": {
        "name": "ipython",
        "version": 3
      },
      "pygments_lexer": "ipython3",
      "nbconvert_exporter": "python",
      "file_extension": ".py"
    },
    "kernelspec": {
      "argv": [
        "/usr/bin/sage",
        "--python",
        "-m",
        "sage.repl.ipython_kernel",
        "-f",
        "{connection_file}"
      ],
      "display_name": "SageMath 9.0",
      "language": "sage",
      "name": "sagemath"
    },
    "nteract": {
      "version": "0.28.0"
    }
  },
  "nbformat": 4,
  "nbformat_minor": 0
}