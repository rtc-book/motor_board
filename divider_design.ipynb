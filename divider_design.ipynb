{
  "cells": [
    {
      "cell_type": "code",
      "source": [
        "import numpy as np\n",
        "import sympy as sp\n",
        "import matplotlib.pyplot as plt\n",
        "import schemdraw\n",
        "import schemdraw.elements as elm\n",
        "sp.init_printing()\n",
        "%matplotlib inline"
      ],
      "outputs": [],
      "execution_count": 1,
      "metadata": {
        "collapsed": true,
        "jupyter": {
          "source_hidden": false,
          "outputs_hidden": false
        },
        "nteract": {
          "transient": {
            "deleting": false
          }
        },
        "execution": {
          "iopub.status.busy": "2024-11-24T09:18:10.053Z",
          "iopub.execute_input": "2024-11-24T09:18:10.070Z",
          "shell.execute_reply": "2024-11-24T09:18:09.395Z",
          "iopub.status.idle": "2024-11-24T09:18:10.089Z"
        }
      }
    },
    {
      "cell_type": "markdown",
      "source": [
        "A resistor devider is needed to lower the voltage level of the amplifier command voltage used for lab 4 to a lower voltage. The design of this divider must take into account both the output impedance and the pulldown resistor of the myRIO, and the input impedance of the amplifer."
      ],
      "metadata": {
        "nteract": {
          "transient": {
            "deleting": false
          }
        }
      }
    },
    {
      "cell_type": "markdown",
      "source": [
        "However, first the output impedance of the myRIO must be estimated as it is not specified. The myRIO output pin can be modelled as an output impedance and a pulldown resistor, as shown."
      ],
      "metadata": {
        "nteract": {
          "transient": {
            "deleting": false
          }
        }
      }
    },
    {
      "cell_type": "code",
      "source": [
        "d = schemdraw.Drawing()\n",
        "d.add(elm.Dot(at=(0, 0), label=\"$V_{in}$\"))\n",
        "d.add(elm.Resistor(d='r', label=\"$R_{out}$\"))\n",
        "d.add(elm.Line(d='r', l=1))\n",
        "d.add(elm.Dot(label=\"$V_{out}$\"))\n",
        "d.add(elm.Resistor(d='d', at=(3, 0), label=\"$R_{load}$\"))\n",
        "d.add(elm.Ground())\n",
        "d.draw()"
      ],
      "outputs": [
        {
          "output_type": "execute_result",
          "execution_count": 2,
          "data": {
            "image/svg+xml": "<?xml version=\"1.0\" encoding=\"utf-8\" standalone=\"no\"?>\n<!DOCTYPE svg PUBLIC \"-//W3C//DTD SVG 1.1//EN\"\n  \"http://www.w3.org/Graphics/SVG/1.1/DTD/svg11.dtd\">\n<svg xmlns:xlink=\"http://www.w3.org/1999/xlink\" width=\"181.5pt\" height=\"164.2pt\" viewBox=\"0 0 181.5 164.2\" xmlns=\"http://www.w3.org/2000/svg\" version=\"1.1\">\n <metadata>\n  <rdf:RDF xmlns:dc=\"http://purl.org/dc/elements/1.1/\" xmlns:cc=\"http://creativecommons.org/ns#\" xmlns:rdf=\"http://www.w3.org/1999/02/22-rdf-syntax-ns#\">\n   <cc:Work>\n    <dc:type rdf:resource=\"http://purl.org/dc/dcmitype/StillImage\"/>\n    <dc:date>2024-11-24T01:18:04.435381</dc:date>\n    <dc:format>image/svg+xml</dc:format>\n    <dc:creator>\n     <cc:Agent>\n      <dc:title>Matplotlib v3.7.5, https://matplotlib.org/</dc:title>\n     </cc:Agent>\n    </dc:creator>\n   </cc:Work>\n  </rdf:RDF>\n </metadata>\n <defs>\n  <style type=\"text/css\">*{stroke-linejoin: round; stroke-linecap: butt}</style>\n </defs>\n <g id=\"figure_1\">\n  <g id=\"patch_1\">\n   <path d=\"M 0 164.2 \nL 181.5 164.2 \nL 181.5 0 \nL 0 0 \nL 0 164.2 \nz\n\" style=\"fill: none\"/>\n  </g>\n  <g id=\"axes_1\">\n   <g id=\"line2d_1\">\n    <path d=\"M 16.482 28.48 \nL 52.482 28.48 \nL 55.482 19.48 \nL 61.482 37.48 \nL 67.482 19.48 \nL 73.482 37.48 \nL 79.482 19.48 \nL 85.482 37.48 \nL 88.482 28.48 \nL 124.482 28.48 \n\" clip-path=\"url(#p489b90d412)\" style=\"fill: none; stroke: #000000; stroke-width: 2; stroke-linecap: round\"/>\n   </g>\n   <g id=\"line2d_2\">\n    <path d=\"M 124.482 28.48 \nL 142.482 28.48 \nL 160.482 28.48 \n\" clip-path=\"url(#p489b90d412)\" style=\"fill: none; stroke: #000000; stroke-width: 2; stroke-linecap: round\"/>\n   </g>\n   <g id=\"line2d_3\">\n    <path d=\"M 124.482 28.48 \nL 124.482 64.48 \nL 133.482 67.48 \nL 115.482 73.48 \nL 133.482 79.48 \nL 115.482 85.48 \nL 133.482 91.48 \nL 115.482 97.48 \nL 124.482 100.48 \nL 124.482 136.48 \n\" clip-path=\"url(#p489b90d412)\" style=\"fill: none; stroke: #000000; stroke-width: 2; stroke-linecap: round\"/>\n   </g>\n   <g id=\"line2d_4\">\n    <path d=\"M 124.482 136.48 \nL 124.482 150.88 \nL 115.482 150.88 \nL 133.482 150.88 \nM 118.182 155.2 \nL 130.782 155.2 \nM 122.682 159.52 \nL 126.282 159.52 \n\" clip-path=\"url(#p489b90d412)\" style=\"fill: none; stroke: #000000; stroke-width: 2; stroke-linecap: round\"/>\n   </g>\n   <g id=\"text_1\">\n    <!-- $R_{out}$ -->\n    <g transform=\"translate(57.392 12.968437) scale(0.14 -0.14)\">\n     <defs>\n      <path id=\"DejaVuSans-Oblique-52\" d=\"M 1613 4147 \nL 1294 2491 \nL 2106 2491 \nQ 2584 2491 2879 2755 \nQ 3175 3019 3175 3444 \nQ 3175 3784 2976 3965 \nQ 2778 4147 2406 4147 \nL 1613 4147 \nz\nM 2772 2241 \nQ 2972 2194 3105 2009 \nQ 3238 1825 3413 1275 \nL 3809 0 \nL 3144 0 \nL 2778 1197 \nQ 2638 1659 2453 1815 \nQ 2269 1972 1888 1972 \nL 1191 1972 \nL 806 0 \nL 172 0 \nL 1081 4666 \nL 2503 4666 \nQ 3150 4666 3495 4373 \nQ 3841 4081 3841 3531 \nQ 3841 3044 3547 2687 \nQ 3253 2331 2772 2241 \nz\n\" transform=\"scale(0.015625)\"/>\n      <path id=\"DejaVuSans-Oblique-6f\" d=\"M 1625 -91 \nQ 1009 -91 651 289 \nQ 294 669 294 1325 \nQ 294 1706 417 2101 \nQ 541 2497 738 2766 \nQ 1047 3184 1428 3384 \nQ 1809 3584 2291 3584 \nQ 2888 3584 3255 3212 \nQ 3622 2841 3622 2241 \nQ 3622 1825 3500 1412 \nQ 3378 1000 3181 728 \nQ 2875 309 2494 109 \nQ 2113 -91 1625 -91 \nz\nM 891 1344 \nQ 891 869 1089 633 \nQ 1288 397 1691 397 \nQ 2269 397 2648 901 \nQ 3028 1406 3028 2181 \nQ 3028 2634 2825 2865 \nQ 2622 3097 2228 3097 \nQ 1903 3097 1650 2945 \nQ 1397 2794 1197 2484 \nQ 1050 2253 970 1956 \nQ 891 1659 891 1344 \nz\n\" transform=\"scale(0.015625)\"/>\n      <path id=\"DejaVuSans-Oblique-75\" d=\"M 428 1388 \nL 838 3500 \nL 1416 3500 \nL 1006 1409 \nQ 975 1256 961 1147 \nQ 947 1038 947 966 \nQ 947 700 1109 554 \nQ 1272 409 1569 409 \nQ 2031 409 2368 721 \nQ 2706 1034 2809 1563 \nL 3194 3500 \nL 3769 3500 \nL 3091 0 \nL 2516 0 \nL 2631 550 \nQ 2388 244 2052 76 \nQ 1716 -91 1338 -91 \nQ 878 -91 622 161 \nQ 366 413 366 863 \nQ 366 956 381 1097 \nQ 397 1238 428 1388 \nz\n\" transform=\"scale(0.015625)\"/>\n      <path id=\"DejaVuSans-Oblique-74\" d=\"M 2706 3500 \nL 2619 3053 \nL 1472 3053 \nL 1100 1153 \nQ 1081 1047 1072 975 \nQ 1063 903 1063 863 \nQ 1063 663 1183 572 \nQ 1303 481 1569 481 \nL 2150 481 \nL 2053 0 \nL 1503 0 \nQ 991 0 739 200 \nQ 488 400 488 806 \nQ 488 878 497 964 \nQ 506 1050 525 1153 \nL 897 3053 \nL 409 3053 \nL 500 3500 \nL 978 3500 \nL 1172 4494 \nL 1747 4494 \nL 1556 3500 \nL 2706 3500 \nz\n\" transform=\"scale(0.015625)\"/>\n     </defs>\n     <use xlink:href=\"#DejaVuSans-Oblique-52\" transform=\"translate(0 0.09375)\"/>\n     <use xlink:href=\"#DejaVuSans-Oblique-6f\" transform=\"translate(69.482422 -16.3125) scale(0.7)\"/>\n     <use xlink:href=\"#DejaVuSans-Oblique-75\" transform=\"translate(112.30957 -16.3125) scale(0.7)\"/>\n     <use xlink:href=\"#DejaVuSans-Oblique-74\" transform=\"translate(156.674805 -16.3125) scale(0.7)\"/>\n    </g>\n   </g>\n   <g id=\"text_2\">\n    <!-- $R_{load}$ -->\n    <g transform=\"translate(80.802 86.343125) scale(0.14 -0.14)\">\n     <defs>\n      <path id=\"DejaVuSans-Oblique-6c\" d=\"M 1172 4863 \nL 1747 4863 \nL 800 0 \nL 225 0 \nL 1172 4863 \nz\n\" transform=\"scale(0.015625)\"/>\n      <path id=\"DejaVuSans-Oblique-61\" d=\"M 3438 1997 \nL 3047 0 \nL 2472 0 \nL 2578 531 \nQ 2325 219 2001 64 \nQ 1678 -91 1281 -91 \nQ 834 -91 548 182 \nQ 263 456 263 884 \nQ 263 1497 752 1853 \nQ 1241 2209 2100 2209 \nL 2900 2209 \nL 2931 2363 \nQ 2938 2388 2941 2417 \nQ 2944 2447 2944 2509 \nQ 2944 2788 2717 2942 \nQ 2491 3097 2081 3097 \nQ 1800 3097 1504 3025 \nQ 1209 2953 897 2809 \nL 997 3341 \nQ 1322 3463 1633 3523 \nQ 1944 3584 2234 3584 \nQ 2853 3584 3176 3315 \nQ 3500 3047 3500 2534 \nQ 3500 2431 3484 2292 \nQ 3469 2153 3438 1997 \nz\nM 2816 1759 \nL 2241 1759 \nQ 1534 1759 1195 1570 \nQ 856 1381 856 984 \nQ 856 709 1029 553 \nQ 1203 397 1509 397 \nQ 1978 397 2328 733 \nQ 2678 1069 2791 1631 \nL 2816 1759 \nz\n\" transform=\"scale(0.015625)\"/>\n      <path id=\"DejaVuSans-Oblique-64\" d=\"M 2675 525 \nQ 2444 222 2128 65 \nQ 1813 -91 1428 -91 \nQ 903 -91 598 267 \nQ 294 625 294 1247 \nQ 294 1766 478 2236 \nQ 663 2706 1013 3078 \nQ 1244 3325 1534 3454 \nQ 1825 3584 2144 3584 \nQ 2481 3584 2739 3421 \nQ 2997 3259 3138 2956 \nL 3513 4863 \nL 4091 4863 \nL 3144 0 \nL 2566 0 \nL 2675 525 \nz\nM 891 1350 \nQ 891 897 1095 644 \nQ 1300 391 1663 391 \nQ 1931 391 2161 520 \nQ 2391 650 2566 903 \nQ 2750 1166 2856 1509 \nQ 2963 1853 2963 2188 \nQ 2963 2622 2758 2865 \nQ 2553 3109 2194 3109 \nQ 1922 3109 1687 2981 \nQ 1453 2853 1288 2613 \nQ 1106 2353 998 2009 \nQ 891 1666 891 1350 \nz\n\" transform=\"scale(0.015625)\"/>\n     </defs>\n     <use xlink:href=\"#DejaVuSans-Oblique-52\" transform=\"translate(0 0.09375)\"/>\n     <use xlink:href=\"#DejaVuSans-Oblique-6c\" transform=\"translate(69.482422 -16.3125) scale(0.7)\"/>\n     <use xlink:href=\"#DejaVuSans-Oblique-6f\" transform=\"translate(88.930664 -16.3125) scale(0.7)\"/>\n     <use xlink:href=\"#DejaVuSans-Oblique-61\" transform=\"translate(131.757812 -16.3125) scale(0.7)\"/>\n     <use xlink:href=\"#DejaVuSans-Oblique-64\" transform=\"translate(174.65332 -16.3125) scale(0.7)\"/>\n    </g>\n   </g>\n   <g id=\"patch_2\">\n    <path d=\"M 16.482 31.18 \nC 17.198048 31.18 17.884866 30.895511 18.391188 30.389188 \nC 18.897511 29.882866 19.182 29.196048 19.182 28.48 \nC 19.182 27.763952 18.897511 27.077134 18.391188 26.570812 \nC 17.884866 26.064489 17.198048 25.78 16.482 25.78 \nC 15.765952 25.78 15.079134 26.064489 14.572812 26.570812 \nC 14.066489 27.077134 13.782 27.763952 13.782 28.48 \nC 13.782 29.196048 14.066489 29.882866 14.572812 30.389188 \nC 15.079134 30.895511 15.765952 31.18 16.482 31.18 \nz\n\" clip-path=\"url(#p489b90d412)\" style=\"stroke: #000000; stroke-width: 2; stroke-linejoin: miter\"/>\n   </g>\n   <g id=\"text_3\">\n    <!-- $V_{in}$ -->\n    <g transform=\"translate(7.032 19.268437) scale(0.14 -0.14)\">\n     <defs>\n      <path id=\"DejaVuSans-Oblique-56\" d=\"M 1319 0 \nL 500 4666 \nL 1119 4666 \nL 1797 653 \nL 4063 4666 \nL 4750 4666 \nL 2053 0 \nL 1319 0 \nz\n\" transform=\"scale(0.015625)\"/>\n      <path id=\"DejaVuSans-Oblique-69\" d=\"M 1172 4863 \nL 1747 4863 \nL 1606 4134 \nL 1031 4134 \nL 1172 4863 \nz\nM 909 3500 \nL 1484 3500 \nL 800 0 \nL 225 0 \nL 909 3500 \nz\n\" transform=\"scale(0.015625)\"/>\n      <path id=\"DejaVuSans-Oblique-6e\" d=\"M 3566 2113 \nL 3156 0 \nL 2578 0 \nL 2988 2091 \nQ 3016 2238 3031 2350 \nQ 3047 2463 3047 2528 \nQ 3047 2791 2881 2937 \nQ 2716 3084 2419 3084 \nQ 1956 3084 1622 2776 \nQ 1288 2469 1184 1941 \nL 800 0 \nL 225 0 \nL 903 3500 \nL 1478 3500 \nL 1363 2950 \nQ 1603 3253 1940 3418 \nQ 2278 3584 2650 3584 \nQ 3113 3584 3367 3334 \nQ 3622 3084 3622 2631 \nQ 3622 2519 3608 2391 \nQ 3594 2263 3566 2113 \nz\n\" transform=\"scale(0.015625)\"/>\n     </defs>\n     <use xlink:href=\"#DejaVuSans-Oblique-56\" transform=\"translate(0 0.09375)\"/>\n     <use xlink:href=\"#DejaVuSans-Oblique-69\" transform=\"translate(68.408203 -16.3125) scale(0.7)\"/>\n     <use xlink:href=\"#DejaVuSans-Oblique-6e\" transform=\"translate(87.856445 -16.3125) scale(0.7)\"/>\n    </g>\n   </g>\n   <g id=\"patch_3\">\n    <path d=\"M 160.482 31.18 \nC 161.198048 31.18 161.884866 30.895511 162.391188 30.389188 \nC 162.897511 29.882866 163.182 29.196048 163.182 28.48 \nC 163.182 27.763952 162.897511 27.077134 162.391188 26.570812 \nC 161.884866 26.064489 161.198048 25.78 160.482 25.78 \nC 159.765952 25.78 159.079134 26.064489 158.572812 26.570812 \nC 158.066489 27.077134 157.782 27.763952 157.782 28.48 \nC 157.782 29.196048 158.066489 29.882866 158.572812 30.389188 \nC 159.079134 30.895511 159.765952 31.18 160.482 31.18 \nz\n\" clip-path=\"url(#p489b90d412)\" style=\"stroke: #000000; stroke-width: 2; stroke-linejoin: miter\"/>\n   </g>\n   <g id=\"text_4\">\n    <!-- $V_{out}$ -->\n    <g transform=\"translate(147.462 19.268437) scale(0.14 -0.14)\">\n     <use xlink:href=\"#DejaVuSans-Oblique-56\" transform=\"translate(0 0.09375)\"/>\n     <use xlink:href=\"#DejaVuSans-Oblique-6f\" transform=\"translate(68.408203 -16.3125) scale(0.7)\"/>\n     <use xlink:href=\"#DejaVuSans-Oblique-75\" transform=\"translate(111.235352 -16.3125) scale(0.7)\"/>\n     <use xlink:href=\"#DejaVuSans-Oblique-74\" transform=\"translate(155.600586 -16.3125) scale(0.7)\"/>\n    </g>\n   </g>\n  </g>\n </g>\n <defs>\n  <clipPath id=\"p489b90d412\">\n   <rect x=\"0\" y=\"0\" width=\"181.5\" height=\"164.2\"/>\n  </clipPath>\n </defs>\n</svg>\n",
            "image/png": "[encoded data removed]",
            "text/plain": "<schemdraw.backends.mpl.Figure object at 0x7f56bfd595e0>"
          },
          "metadata": {}
        }
      ],
      "execution_count": 2,
      "metadata": {
        "collapsed": true,
        "jupyter": {
          "source_hidden": false,
          "outputs_hidden": false
        },
        "nteract": {
          "transient": {
            "deleting": false
          }
        },
        "execution": {
          "iopub.status.busy": "2024-11-24T09:18:10.115Z",
          "iopub.execute_input": "2024-11-24T09:18:10.134Z",
          "shell.execute_reply": "2024-11-24T09:18:09.411Z",
          "iopub.status.idle": "2024-11-24T09:18:10.167Z"
        }
      }
    },
    {
      "cell_type": "markdown",
      "source": [
        "When measured, the input to this voltage divider is:"
      ],
      "metadata": {
        "nteract": {
          "transient": {
            "deleting": false
          }
        }
      }
    },
    {
      "cell_type": "code",
      "source": [
        "Vin = 3.1 # Volts"
      ],
      "outputs": [],
      "execution_count": 3,
      "metadata": {
        "collapsed": true,
        "jupyter": {
          "source_hidden": false,
          "outputs_hidden": false
        },
        "nteract": {
          "transient": {
            "deleting": false
          }
        },
        "execution": {
          "iopub.status.busy": "2024-11-24T09:18:10.193Z",
          "iopub.execute_input": "2024-11-24T09:18:10.210Z",
          "iopub.status.idle": "2024-11-24T09:18:10.230Z",
          "shell.execute_reply": "2024-11-24T09:18:09.429Z"
        }
      }
    },
    {
      "cell_type": "markdown",
      "source": [
        "The total load resistance is:"
      ],
      "metadata": {
        "nteract": {
          "transient": {
            "deleting": false
          }
        }
      }
    },
    {
      "cell_type": "code",
      "source": [
        "Rload = 2700 + (1. / (1. / 1000 + 1. / 100000))\n",
        "Rload"
      ],
      "outputs": [
        {
          "output_type": "execute_result",
          "execution_count": 4,
          "data": {
            "text/plain": "3690.09900990099"
          },
          "metadata": {}
        }
      ],
      "execution_count": 4,
      "metadata": {
        "collapsed": true,
        "jupyter": {
          "source_hidden": false,
          "outputs_hidden": false
        },
        "nteract": {
          "transient": {
            "deleting": false
          }
        },
        "execution": {
          "iopub.status.busy": "2024-11-24T09:18:10.255Z",
          "iopub.execute_input": "2024-11-24T09:18:10.271Z",
          "iopub.status.idle": "2024-11-24T09:18:10.299Z",
          "shell.execute_reply": "2024-11-24T09:18:09.448Z"
        }
      }
    },
    {
      "cell_type": "markdown",
      "source": [
        "When loaded, the myRIO output pin is:"
      ],
      "metadata": {
        "nteract": {
          "transient": {
            "deleting": false
          }
        }
      }
    },
    {
      "cell_type": "code",
      "source": [
        "Vout_loaded = 2.982 # Volts"
      ],
      "outputs": [],
      "execution_count": 5,
      "metadata": {
        "collapsed": true,
        "jupyter": {
          "source_hidden": false,
          "outputs_hidden": false
        },
        "nteract": {
          "transient": {
            "deleting": false
          }
        },
        "execution": {
          "iopub.status.busy": "2024-11-24T09:18:10.326Z",
          "iopub.execute_input": "2024-11-24T09:18:10.344Z",
          "iopub.status.idle": "2024-11-24T09:18:10.362Z",
          "shell.execute_reply": "2024-11-24T09:18:09.465Z"
        }
      }
    },
    {
      "cell_type": "markdown",
      "source": [
        "Using this information, the output impedance can be calculated from the equation,"
      ],
      "metadata": {
        "nteract": {
          "transient": {
            "deleting": false
          }
        }
      }
    },
    {
      "cell_type": "code",
      "source": [
        "sp.var(\"R_out\")\n",
        "myRIO_divider = sp.Eq(Vout_loaded, Vin * Rload / (Rload + R_out))\n",
        "myRIO_divider"
      ],
      "outputs": [
        {
          "output_type": "execute_result",
          "execution_count": 6,
          "data": {
            "text/latex": "$\\displaystyle 2.982 = \\frac{11439.3069306931}{R_{out} + 3690.09900990099}$",
            "text/plain": "Eq(2.982, 11439.3069306931/(R_out + 3690.09900990099))"
          },
          "metadata": {}
        }
      ],
      "execution_count": 6,
      "metadata": {
        "collapsed": true,
        "jupyter": {
          "source_hidden": false,
          "outputs_hidden": false
        },
        "nteract": {
          "transient": {
            "deleting": false
          }
        },
        "execution": {
          "iopub.status.busy": "2024-11-24T09:18:10.387Z",
          "iopub.execute_input": "2024-11-24T09:18:10.403Z",
          "iopub.status.idle": "2024-11-24T09:18:10.794Z",
          "shell.execute_reply": "2024-11-24T09:18:09.483Z"
        }
      }
    },
    {
      "cell_type": "markdown",
      "source": [
        "Now solving for $R_{out}$,"
      ],
      "metadata": {
        "nteract": {
          "transient": {
            "deleting": false
          }
        }
      }
    },
    {
      "cell_type": "code",
      "source": [
        "sols = sp.solve(myRIO_divider, R_out)\n",
        "assert len(sols) == 1\n",
        "sol = sols[0]\n",
        "Rout = float(sol)\n",
        "print(f\"Output impedance: {Rout} Ohms.\")"
      ],
      "outputs": [
        {
          "output_type": "stream",
          "name": "stdout",
          "text": [
            "Output impedance: 146.02001447630713 Ohms.\n"
          ]
        }
      ],
      "execution_count": 7,
      "metadata": {
        "collapsed": true,
        "jupyter": {
          "source_hidden": false,
          "outputs_hidden": false
        },
        "nteract": {
          "transient": {
            "deleting": false
          }
        },
        "execution": {
          "iopub.status.busy": "2024-11-24T09:18:10.818Z",
          "iopub.execute_input": "2024-11-24T09:18:10.834Z",
          "iopub.status.idle": "2024-11-24T09:18:10.860Z",
          "shell.execute_reply": "2024-11-24T09:18:09.504Z"
        }
      }
    },
    {
      "cell_type": "markdown",
      "source": [
        "We can now begin the analysis of the full circuit, as shown below."
      ],
      "metadata": {
        "nteract": {
          "transient": {
            "deleting": false
          }
        }
      }
    },
    {
      "cell_type": "code",
      "source": [
        "d = schemdraw.Drawing()\n",
        "d.add(elm.Dot(at=(0, 0), label=\"$V_{in}$\"))\n",
        "d.add(elm.Resistor(d='r', label=\"$R_{out}$\"))\n",
        "d.add(elm.Dot(d='r', label=\"$V_{in\\_corr}$\"))\n",
        "d.add(elm.Resistor(d='r', label=\"$R_1$\"))\n",
        "d.add(elm.Line(d='r'))\n",
        "d.add(elm.Resistor(d='d', label=\"$R_{in}$\"))\n",
        "d.add(elm.Line(d='l'))\n",
        "d.add(elm.Ground())\n",
        "d.add(elm.Resistor(d='d', at=(3, 0), label=\"$R_{down}$\"))\n",
        "d.add(elm.Line(d='r'))\n",
        "d.add(elm.Resistor(d='u', label=\"$R_2$\"))\n",
        "d.add(elm.Line(d='r', at=(9, 0), l=1))\n",
        "d.add(elm.Dot(label=\"$V_{out}$\"))\n",
        "d.draw()"
      ],
      "outputs": [
        {
          "output_type": "stream",
          "name": "stderr",
          "text": [
            "<>:4: DeprecationWarning: invalid escape sequence \\_\n",
            "<>:4: DeprecationWarning: invalid escape sequence \\_\n"
          ]
        },
        {
          "output_type": "execute_result",
          "execution_count": 8,
          "data": {
            "image/svg+xml": "<?xml version=\"1.0\" encoding=\"utf-8\" standalone=\"no\"?>\n<!DOCTYPE svg PUBLIC \"-//W3C//DTD SVG 1.1//EN\"\n  \"http://www.w3.org/Graphics/SVG/1.1/DTD/svg11.dtd\">\n<svg xmlns:xlink=\"http://www.w3.org/1999/xlink\" width=\"397.5pt\" height=\"164.2pt\" viewBox=\"0 0 397.5 164.2\" xmlns=\"http://www.w3.org/2000/svg\" version=\"1.1\">\n <metadata>\n  <rdf:RDF xmlns:dc=\"http://purl.org/dc/elements/1.1/\" xmlns:cc=\"http://creativecommons.org/ns#\" xmlns:rdf=\"http://www.w3.org/1999/02/22-rdf-syntax-ns#\">\n   <cc:Work>\n    <dc:type rdf:resource=\"http://purl.org/dc/dcmitype/StillImage\"/>\n    <dc:date>2024-11-24T01:18:04.945814</dc:date>\n    <dc:format>image/svg+xml</dc:format>\n    <dc:creator>\n     <cc:Agent>\n      <dc:title>Matplotlib v3.7.5, https://matplotlib.org/</dc:title>\n     </cc:Agent>\n    </dc:creator>\n   </cc:Work>\n  </rdf:RDF>\n </metadata>\n <defs>\n  <style type=\"text/css\">*{stroke-linejoin: round; stroke-linecap: butt}</style>\n </defs>\n <g id=\"figure_1\">\n  <g id=\"patch_1\">\n   <path d=\"M 0 164.2 \nL 397.5 164.2 \nL 397.5 0 \nL 0 0 \nL 0 164.2 \nz\n\" style=\"fill: none\"/>\n  </g>\n  <g id=\"axes_1\">\n   <g id=\"line2d_1\">\n    <path d=\"M 16.482 28.48 \nL 52.482 28.48 \nL 55.482 19.48 \nL 61.482 37.48 \nL 67.482 19.48 \nL 73.482 37.48 \nL 79.482 19.48 \nL 85.482 37.48 \nL 88.482 28.48 \nL 124.482 28.48 \n\" clip-path=\"url(#pd13e1f7e06)\" style=\"fill: none; stroke: #000000; stroke-width: 2; stroke-linecap: round\"/>\n   </g>\n   <g id=\"line2d_2\">\n    <path d=\"M 124.482 28.48 \nL 160.482 28.48 \nL 163.482 19.48 \nL 169.482 37.48 \nL 175.482 19.48 \nL 181.482 37.48 \nL 187.482 19.48 \nL 193.482 37.48 \nL 196.482 28.48 \nL 232.482 28.48 \n\" clip-path=\"url(#pd13e1f7e06)\" style=\"fill: none; stroke: #000000; stroke-width: 2; stroke-linecap: round\"/>\n   </g>\n   <g id=\"line2d_3\">\n    <path d=\"M 232.482 28.48 \nL 286.482 28.48 \nL 340.482 28.48 \n\" clip-path=\"url(#pd13e1f7e06)\" style=\"fill: none; stroke: #000000; stroke-width: 2; stroke-linecap: round\"/>\n   </g>\n   <g id=\"line2d_4\">\n    <path d=\"M 340.482 28.48 \nL 340.482 64.48 \nL 349.482 67.48 \nL 331.482 73.48 \nL 349.482 79.48 \nL 331.482 85.48 \nL 349.482 91.48 \nL 331.482 97.48 \nL 340.482 100.48 \nL 340.482 136.48 \n\" clip-path=\"url(#pd13e1f7e06)\" style=\"fill: none; stroke: #000000; stroke-width: 2; stroke-linecap: round\"/>\n   </g>\n   <g id=\"line2d_5\">\n    <path d=\"M 340.482 136.48 \nL 286.482 136.48 \nL 232.482 136.48 \n\" clip-path=\"url(#pd13e1f7e06)\" style=\"fill: none; stroke: #000000; stroke-width: 2; stroke-linecap: round\"/>\n   </g>\n   <g id=\"line2d_6\">\n    <path d=\"M 232.482 136.48 \nL 232.482 150.88 \nL 223.482 150.88 \nL 241.482 150.88 \nM 226.182 155.2 \nL 238.782 155.2 \nM 230.682 159.52 \nL 234.282 159.52 \n\" clip-path=\"url(#pd13e1f7e06)\" style=\"fill: none; stroke: #000000; stroke-width: 2; stroke-linecap: round\"/>\n   </g>\n   <g id=\"line2d_7\">\n    <path d=\"M 124.482 28.48 \nL 124.482 64.48 \nL 133.482 67.48 \nL 115.482 73.48 \nL 133.482 79.48 \nL 115.482 85.48 \nL 133.482 91.48 \nL 115.482 97.48 \nL 124.482 100.48 \nL 124.482 136.48 \n\" clip-path=\"url(#pd13e1f7e06)\" style=\"fill: none; stroke: #000000; stroke-width: 2; stroke-linecap: round\"/>\n   </g>\n   <g id=\"line2d_8\">\n    <path d=\"M 124.482 136.48 \nL 178.482 136.48 \nL 232.482 136.48 \n\" clip-path=\"url(#pd13e1f7e06)\" style=\"fill: none; stroke: #000000; stroke-width: 2; stroke-linecap: round\"/>\n   </g>\n   <g id=\"line2d_9\">\n    <path d=\"M 232.482 136.48 \nL 232.482 100.48 \nL 223.482 97.48 \nL 241.482 91.48 \nL 223.482 85.48 \nL 241.482 79.48 \nL 223.482 73.48 \nL 241.482 67.48 \nL 232.482 64.48 \nL 232.482 28.48 \n\" clip-path=\"url(#pd13e1f7e06)\" style=\"fill: none; stroke: #000000; stroke-width: 2; stroke-linecap: round\"/>\n   </g>\n   <g id=\"line2d_10\">\n    <path d=\"M 340.482 28.48 \nL 358.482 28.48 \nL 376.482 28.48 \n\" clip-path=\"url(#pd13e1f7e06)\" style=\"fill: none; stroke: #000000; stroke-width: 2; stroke-linecap: round\"/>\n   </g>\n   <g id=\"text_1\">\n    <!-- $R_{out}$ -->\n    <g transform=\"translate(57.392 12.968438) scale(0.14 -0.14)\">\n     <defs>\n      <path id=\"DejaVuSans-Oblique-52\" d=\"M 1613 4147 \nL 1294 2491 \nL 2106 2491 \nQ 2584 2491 2879 2755 \nQ 3175 3019 3175 3444 \nQ 3175 3784 2976 3965 \nQ 2778 4147 2406 4147 \nL 1613 4147 \nz\nM 2772 2241 \nQ 2972 2194 3105 2009 \nQ 3238 1825 3413 1275 \nL 3809 0 \nL 3144 0 \nL 2778 1197 \nQ 2638 1659 2453 1815 \nQ 2269 1972 1888 1972 \nL 1191 1972 \nL 806 0 \nL 172 0 \nL 1081 4666 \nL 2503 4666 \nQ 3150 4666 3495 4373 \nQ 3841 4081 3841 3531 \nQ 3841 3044 3547 2687 \nQ 3253 2331 2772 2241 \nz\n\" transform=\"scale(0.015625)\"/>\n      <path id=\"DejaVuSans-Oblique-6f\" d=\"M 1625 -91 \nQ 1009 -91 651 289 \nQ 294 669 294 1325 \nQ 294 1706 417 2101 \nQ 541 2497 738 2766 \nQ 1047 3184 1428 3384 \nQ 1809 3584 2291 3584 \nQ 2888 3584 3255 3212 \nQ 3622 2841 3622 2241 \nQ 3622 1825 3500 1412 \nQ 3378 1000 3181 728 \nQ 2875 309 2494 109 \nQ 2113 -91 1625 -91 \nz\nM 891 1344 \nQ 891 869 1089 633 \nQ 1288 397 1691 397 \nQ 2269 397 2648 901 \nQ 3028 1406 3028 2181 \nQ 3028 2634 2825 2865 \nQ 2622 3097 2228 3097 \nQ 1903 3097 1650 2945 \nQ 1397 2794 1197 2484 \nQ 1050 2253 970 1956 \nQ 891 1659 891 1344 \nz\n\" transform=\"scale(0.015625)\"/>\n      <path id=\"DejaVuSans-Oblique-75\" d=\"M 428 1388 \nL 838 3500 \nL 1416 3500 \nL 1006 1409 \nQ 975 1256 961 1147 \nQ 947 1038 947 966 \nQ 947 700 1109 554 \nQ 1272 409 1569 409 \nQ 2031 409 2368 721 \nQ 2706 1034 2809 1563 \nL 3194 3500 \nL 3769 3500 \nL 3091 0 \nL 2516 0 \nL 2631 550 \nQ 2388 244 2052 76 \nQ 1716 -91 1338 -91 \nQ 878 -91 622 161 \nQ 366 413 366 863 \nQ 366 956 381 1097 \nQ 397 1238 428 1388 \nz\n\" transform=\"scale(0.015625)\"/>\n      <path id=\"DejaVuSans-Oblique-74\" d=\"M 2706 3500 \nL 2619 3053 \nL 1472 3053 \nL 1100 1153 \nQ 1081 1047 1072 975 \nQ 1063 903 1063 863 \nQ 1063 663 1183 572 \nQ 1303 481 1569 481 \nL 2150 481 \nL 2053 0 \nL 1503 0 \nQ 991 0 739 200 \nQ 488 400 488 806 \nQ 488 878 497 964 \nQ 506 1050 525 1153 \nL 897 3053 \nL 409 3053 \nL 500 3500 \nL 978 3500 \nL 1172 4494 \nL 1747 4494 \nL 1556 3500 \nL 2706 3500 \nz\n\" transform=\"scale(0.015625)\"/>\n     </defs>\n     <use xlink:href=\"#DejaVuSans-Oblique-52\" transform=\"translate(0 0.09375)\"/>\n     <use xlink:href=\"#DejaVuSans-Oblique-6f\" transform=\"translate(69.482422 -16.3125) scale(0.7)\"/>\n     <use xlink:href=\"#DejaVuSans-Oblique-75\" transform=\"translate(112.30957 -16.3125) scale(0.7)\"/>\n     <use xlink:href=\"#DejaVuSans-Oblique-74\" transform=\"translate(156.674805 -16.3125) scale(0.7)\"/>\n    </g>\n   </g>\n   <g id=\"text_2\">\n    <!-- $R_1$ -->\n    <g transform=\"translate(170.292 12.968438) scale(0.14 -0.14)\">\n     <defs>\n      <path id=\"DejaVuSans-31\" d=\"M 794 531 \nL 1825 531 \nL 1825 4091 \nL 703 3866 \nL 703 4441 \nL 1819 4666 \nL 2450 4666 \nL 2450 531 \nL 3481 531 \nL 3481 0 \nL 794 0 \nL 794 531 \nz\n\" transform=\"scale(0.015625)\"/>\n     </defs>\n     <use xlink:href=\"#DejaVuSans-Oblique-52\" transform=\"translate(0 0.09375)\"/>\n     <use xlink:href=\"#DejaVuSans-31\" transform=\"translate(69.482422 -16.3125) scale(0.7)\"/>\n    </g>\n   </g>\n   <g id=\"text_3\">\n    <!-- $R_{in}$ -->\n    <g transform=\"translate(308.702 86.343125) scale(0.14 -0.14)\">\n     <defs>\n      <path id=\"DejaVuSans-Oblique-69\" d=\"M 1172 4863 \nL 1747 4863 \nL 1606 4134 \nL 1031 4134 \nL 1172 4863 \nz\nM 909 3500 \nL 1484 3500 \nL 800 0 \nL 225 0 \nL 909 3500 \nz\n\" transform=\"scale(0.015625)\"/>\n      <path id=\"DejaVuSans-Oblique-6e\" d=\"M 3566 2113 \nL 3156 0 \nL 2578 0 \nL 2988 2091 \nQ 3016 2238 3031 2350 \nQ 3047 2463 3047 2528 \nQ 3047 2791 2881 2937 \nQ 2716 3084 2419 3084 \nQ 1956 3084 1622 2776 \nQ 1288 2469 1184 1941 \nL 800 0 \nL 225 0 \nL 903 3500 \nL 1478 3500 \nL 1363 2950 \nQ 1603 3253 1940 3418 \nQ 2278 3584 2650 3584 \nQ 3113 3584 3367 3334 \nQ 3622 3084 3622 2631 \nQ 3622 2519 3608 2391 \nQ 3594 2263 3566 2113 \nz\n\" transform=\"scale(0.015625)\"/>\n     </defs>\n     <use xlink:href=\"#DejaVuSans-Oblique-52\" transform=\"translate(0 0.09375)\"/>\n     <use xlink:href=\"#DejaVuSans-Oblique-69\" transform=\"translate(69.482422 -16.3125) scale(0.7)\"/>\n     <use xlink:href=\"#DejaVuSans-Oblique-6e\" transform=\"translate(88.930664 -16.3125) scale(0.7)\"/>\n    </g>\n   </g>\n   <g id=\"text_4\">\n    <!-- $R_{down}$ -->\n    <g transform=\"translate(75.202 86.343125) scale(0.14 -0.14)\">\n     <defs>\n      <path id=\"DejaVuSans-Oblique-64\" d=\"M 2675 525 \nQ 2444 222 2128 65 \nQ 1813 -91 1428 -91 \nQ 903 -91 598 267 \nQ 294 625 294 1247 \nQ 294 1766 478 2236 \nQ 663 2706 1013 3078 \nQ 1244 3325 1534 3454 \nQ 1825 3584 2144 3584 \nQ 2481 3584 2739 3421 \nQ 2997 3259 3138 2956 \nL 3513 4863 \nL 4091 4863 \nL 3144 0 \nL 2566 0 \nL 2675 525 \nz\nM 891 1350 \nQ 891 897 1095 644 \nQ 1300 391 1663 391 \nQ 1931 391 2161 520 \nQ 2391 650 2566 903 \nQ 2750 1166 2856 1509 \nQ 2963 1853 2963 2188 \nQ 2963 2622 2758 2865 \nQ 2553 3109 2194 3109 \nQ 1922 3109 1687 2981 \nQ 1453 2853 1288 2613 \nQ 1106 2353 998 2009 \nQ 891 1666 891 1350 \nz\n\" transform=\"scale(0.015625)\"/>\n      <path id=\"DejaVuSans-Oblique-77\" d=\"M 544 3500 \nL 1113 3500 \nL 1259 684 \nL 2566 3500 \nL 3231 3500 \nL 3425 684 \nL 4666 3500 \nL 5241 3500 \nL 3641 0 \nL 2969 0 \nL 2797 2900 \nL 1459 0 \nL 781 0 \nL 544 3500 \nz\n\" transform=\"scale(0.015625)\"/>\n     </defs>\n     <use xlink:href=\"#DejaVuSans-Oblique-52\" transform=\"translate(0 0.09375)\"/>\n     <use xlink:href=\"#DejaVuSans-Oblique-64\" transform=\"translate(69.482422 -16.3125) scale(0.7)\"/>\n     <use xlink:href=\"#DejaVuSans-Oblique-6f\" transform=\"translate(113.916016 -16.3125) scale(0.7)\"/>\n     <use xlink:href=\"#DejaVuSans-Oblique-77\" transform=\"translate(156.743164 -16.3125) scale(0.7)\"/>\n     <use xlink:href=\"#DejaVuSans-Oblique-6e\" transform=\"translate(213.994141 -16.3125) scale(0.7)\"/>\n    </g>\n   </g>\n   <g id=\"text_5\">\n    <!-- $R_2$ -->\n    <g transform=\"translate(203.502 86.343125) scale(0.14 -0.14)\">\n     <defs>\n      <path id=\"DejaVuSans-32\" d=\"M 1228 531 \nL 3431 531 \nL 3431 0 \nL 469 0 \nL 469 531 \nQ 828 903 1448 1529 \nQ 2069 2156 2228 2338 \nQ 2531 2678 2651 2914 \nQ 2772 3150 2772 3378 \nQ 2772 3750 2511 3984 \nQ 2250 4219 1831 4219 \nQ 1534 4219 1204 4116 \nQ 875 4013 500 3803 \nL 500 4441 \nQ 881 4594 1212 4672 \nQ 1544 4750 1819 4750 \nQ 2544 4750 2975 4387 \nQ 3406 4025 3406 3419 \nQ 3406 3131 3298 2873 \nQ 3191 2616 2906 2266 \nQ 2828 2175 2409 1742 \nQ 1991 1309 1228 531 \nz\n\" transform=\"scale(0.015625)\"/>\n     </defs>\n     <use xlink:href=\"#DejaVuSans-Oblique-52\" transform=\"translate(0 0.09375)\"/>\n     <use xlink:href=\"#DejaVuSans-32\" transform=\"translate(69.482422 -16.3125) scale(0.7)\"/>\n    </g>\n   </g>\n   <g id=\"patch_2\">\n    <path d=\"M 16.482 31.18 \nC 17.198048 31.18 17.884866 30.895511 18.391188 30.389188 \nC 18.897511 29.882866 19.182 29.196048 19.182 28.48 \nC 19.182 27.763952 18.897511 27.077134 18.391188 26.570812 \nC 17.884866 26.064489 17.198048 25.78 16.482 25.78 \nC 15.765952 25.78 15.079134 26.064489 14.572812 26.570812 \nC 14.066489 27.077134 13.782 27.763952 13.782 28.48 \nC 13.782 29.196048 14.066489 29.882866 14.572812 30.389188 \nC 15.079134 30.895511 15.765952 31.18 16.482 31.18 \nz\n\" clip-path=\"url(#pd13e1f7e06)\" style=\"stroke: #000000; stroke-width: 2; stroke-linejoin: miter\"/>\n   </g>\n   <g id=\"text_6\">\n    <!-- $V_{in}$ -->\n    <g transform=\"translate(7.032 19.268438) scale(0.14 -0.14)\">\n     <defs>\n      <path id=\"DejaVuSans-Oblique-56\" d=\"M 1319 0 \nL 500 4666 \nL 1119 4666 \nL 1797 653 \nL 4063 4666 \nL 4750 4666 \nL 2053 0 \nL 1319 0 \nz\n\" transform=\"scale(0.015625)\"/>\n     </defs>\n     <use xlink:href=\"#DejaVuSans-Oblique-56\" transform=\"translate(0 0.09375)\"/>\n     <use xlink:href=\"#DejaVuSans-Oblique-69\" transform=\"translate(68.408203 -16.3125) scale(0.7)\"/>\n     <use xlink:href=\"#DejaVuSans-Oblique-6e\" transform=\"translate(87.856445 -16.3125) scale(0.7)\"/>\n    </g>\n   </g>\n   <g id=\"patch_3\">\n    <path d=\"M 124.482 31.18 \nC 125.198048 31.18 125.884866 30.895511 126.391188 30.389188 \nC 126.897511 29.882866 127.182 29.196048 127.182 28.48 \nC 127.182 27.763952 126.897511 27.077134 126.391188 26.570812 \nC 125.884866 26.064489 125.198048 25.78 124.482 25.78 \nC 123.765952 25.78 123.079134 26.064489 122.572812 26.570812 \nC 122.066489 27.077134 121.782 27.763952 121.782 28.48 \nC 121.782 29.196048 122.066489 29.882866 122.572812 30.389188 \nC 123.079134 30.895511 123.765952 31.18 124.482 31.18 \nz\n\" clip-path=\"url(#pd13e1f7e06)\" style=\"stroke: #000000; stroke-width: 2; stroke-linejoin: miter\"/>\n   </g>\n   <g id=\"text_7\">\n    <!-- $V_{in\\_corr}$ -->\n    <g transform=\"translate(102.852 17.56) scale(0.14 -0.14)\">\n     <defs>\n      <path id=\"DejaVuSans-5f\" d=\"M 3263 -1063 \nL 3263 -1509 \nL -63 -1509 \nL -63 -1063 \nL 3263 -1063 \nz\n\" transform=\"scale(0.015625)\"/>\n      <path id=\"DejaVuSans-Oblique-63\" d=\"M 3431 3366 \nL 3316 2797 \nQ 3109 2947 2876 3022 \nQ 2644 3097 2394 3097 \nQ 2119 3097 1870 3000 \nQ 1622 2903 1453 2725 \nQ 1184 2453 1037 2087 \nQ 891 1722 891 1331 \nQ 891 859 1127 628 \nQ 1363 397 1844 397 \nQ 2081 397 2348 469 \nQ 2616 541 2906 684 \nL 2797 116 \nQ 2547 13 2283 -39 \nQ 2019 -91 1741 -91 \nQ 1044 -91 669 257 \nQ 294 606 294 1253 \nQ 294 1797 489 2255 \nQ 684 2713 1069 3078 \nQ 1331 3328 1684 3456 \nQ 2038 3584 2456 3584 \nQ 2700 3584 2940 3529 \nQ 3181 3475 3431 3366 \nz\n\" transform=\"scale(0.015625)\"/>\n      <path id=\"DejaVuSans-Oblique-72\" d=\"M 2853 2969 \nQ 2766 3016 2653 3041 \nQ 2541 3066 2413 3066 \nQ 1953 3066 1609 2717 \nQ 1266 2369 1153 1784 \nL 800 0 \nL 225 0 \nL 909 3500 \nL 1484 3500 \nL 1375 2956 \nQ 1603 3259 1920 3421 \nQ 2238 3584 2597 3584 \nQ 2691 3584 2781 3573 \nQ 2872 3563 2963 3538 \nL 2853 2969 \nz\n\" transform=\"scale(0.015625)\"/>\n     </defs>\n     <use xlink:href=\"#DejaVuSans-Oblique-56\" transform=\"translate(0 0.09375)\"/>\n     <use xlink:href=\"#DejaVuSans-Oblique-69\" transform=\"translate(68.408203 -16.3125) scale(0.7)\"/>\n     <use xlink:href=\"#DejaVuSans-Oblique-6e\" transform=\"translate(87.856445 -16.3125) scale(0.7)\"/>\n     <use xlink:href=\"#DejaVuSans-5f\" transform=\"translate(132.22168 -16.3125) scale(0.7)\"/>\n     <use xlink:href=\"#DejaVuSans-Oblique-63\" transform=\"translate(167.22168 -16.3125) scale(0.7)\"/>\n     <use xlink:href=\"#DejaVuSans-Oblique-6f\" transform=\"translate(205.708008 -16.3125) scale(0.7)\"/>\n     <use xlink:href=\"#DejaVuSans-Oblique-72\" transform=\"translate(248.535156 -16.3125) scale(0.7)\"/>\n     <use xlink:href=\"#DejaVuSans-Oblique-72\" transform=\"translate(277.314453 -16.3125) scale(0.7)\"/>\n    </g>\n   </g>\n   <g id=\"patch_4\">\n    <path d=\"M 376.482 31.18 \nC 377.198048 31.18 377.884866 30.895511 378.391188 30.389188 \nC 378.897511 29.882866 379.182 29.196048 379.182 28.48 \nC 379.182 27.763952 378.897511 27.077134 378.391188 26.570812 \nC 377.884866 26.064489 377.198048 25.78 376.482 25.78 \nC 375.765952 25.78 375.079134 26.064489 374.572812 26.570812 \nC 374.066489 27.077134 373.782 27.763952 373.782 28.48 \nC 373.782 29.196048 374.066489 29.882866 374.572812 30.389188 \nC 375.079134 30.895511 375.765952 31.18 376.482 31.18 \nz\n\" clip-path=\"url(#pd13e1f7e06)\" style=\"stroke: #000000; stroke-width: 2; stroke-linejoin: miter\"/>\n   </g>\n   <g id=\"text_8\">\n    <!-- $V_{out}$ -->\n    <g transform=\"translate(363.462 19.268438) scale(0.14 -0.14)\">\n     <use xlink:href=\"#DejaVuSans-Oblique-56\" transform=\"translate(0 0.09375)\"/>\n     <use xlink:href=\"#DejaVuSans-Oblique-6f\" transform=\"translate(68.408203 -16.3125) scale(0.7)\"/>\n     <use xlink:href=\"#DejaVuSans-Oblique-75\" transform=\"translate(111.235352 -16.3125) scale(0.7)\"/>\n     <use xlink:href=\"#DejaVuSans-Oblique-74\" transform=\"translate(155.600586 -16.3125) scale(0.7)\"/>\n    </g>\n   </g>\n  </g>\n </g>\n <defs>\n  <clipPath id=\"pd13e1f7e06\">\n   <rect x=\"0\" y=\"0\" width=\"397.5\" height=\"164.2\"/>\n  </clipPath>\n </defs>\n</svg>\n",
            "image/png": "[encoded data removed]",
            "text/plain": "<schemdraw.backends.mpl.Figure object at 0x7f56d46c3520>"
          },
          "metadata": {}
        }
      ],
      "execution_count": 8,
      "metadata": {
        "collapsed": true,
        "jupyter": {
          "source_hidden": false,
          "outputs_hidden": false
        },
        "nteract": {
          "transient": {
            "deleting": false
          }
        },
        "execution": {
          "iopub.status.busy": "2024-11-24T09:18:10.885Z",
          "iopub.execute_input": "2024-11-24T09:18:10.902Z",
          "iopub.status.idle": "2024-11-24T09:18:10.939Z",
          "shell.execute_reply": "2024-11-24T09:18:09.520Z"
        }
      }
    },
    {
      "cell_type": "markdown",
      "source": [
        "In this circuit, the values of two more resistors are known."
      ],
      "metadata": {
        "nteract": {
          "transient": {
            "deleting": false
          }
        }
      }
    },
    {
      "cell_type": "code",
      "source": [
        "Rin = 100_000 # Ohms\n",
        "Rdown = 40_000 # Ohms"
      ],
      "outputs": [],
      "execution_count": 9,
      "metadata": {
        "collapsed": true,
        "jupyter": {
          "source_hidden": false,
          "outputs_hidden": false
        },
        "nteract": {
          "transient": {
            "deleting": false
          }
        },
        "execution": {
          "iopub.status.busy": "2024-11-24T09:18:10.963Z",
          "iopub.execute_input": "2024-11-24T09:18:10.981Z",
          "iopub.status.idle": "2024-11-24T09:18:11.001Z",
          "shell.execute_reply": "2024-11-24T09:18:09.538Z"
        }
      }
    },
    {
      "cell_type": "markdown",
      "source": [
        "To find $V_{out}$, we begin with the desired current:"
      ],
      "metadata": {
        "nteract": {
          "transient": {
            "deleting": false
          }
        }
      }
    },
    {
      "cell_type": "code",
      "source": [
        "Iout = 0.05 # Amps"
      ],
      "outputs": [],
      "execution_count": 10,
      "metadata": {
        "collapsed": true,
        "jupyter": {
          "source_hidden": false,
          "outputs_hidden": false
        },
        "nteract": {
          "transient": {
            "deleting": false
          }
        },
        "execution": {
          "iopub.status.busy": "2024-11-24T09:18:11.028Z",
          "iopub.execute_input": "2024-11-24T09:18:11.045Z",
          "iopub.status.idle": "2024-11-24T09:18:11.070Z",
          "shell.execute_reply": "2024-11-24T09:18:09.556Z"
        }
      }
    },
    {
      "cell_type": "markdown",
      "source": [
        "Since the amplifier gain is:"
      ],
      "metadata": {
        "nteract": {
          "transient": {
            "deleting": false
          }
        }
      }
    },
    {
      "cell_type": "code",
      "source": [
        "Ka = 0.06 # A / V"
      ],
      "outputs": [],
      "execution_count": 11,
      "metadata": {
        "collapsed": true,
        "jupyter": {
          "source_hidden": false,
          "outputs_hidden": false
        },
        "nteract": {
          "transient": {
            "deleting": false
          }
        },
        "execution": {
          "iopub.status.busy": "2024-11-24T09:18:11.098Z",
          "iopub.execute_input": "2024-11-24T09:18:11.116Z",
          "iopub.status.idle": "2024-11-24T09:18:11.135Z",
          "shell.execute_reply": "2024-11-24T09:18:09.573Z"
        }
      }
    },
    {
      "cell_type": "markdown",
      "source": [
        "Therefore, the desired voltage is:"
      ],
      "metadata": {
        "nteract": {
          "transient": {
            "deleting": false
          }
        }
      }
    },
    {
      "cell_type": "code",
      "source": [
        "Vout = Iout / Ka\n",
        "print(f\"{Vout} Volts\")"
      ],
      "outputs": [
        {
          "output_type": "stream",
          "name": "stdout",
          "text": [
            "0.833333333333333 Volts\n"
          ]
        }
      ],
      "execution_count": 12,
      "metadata": {
        "collapsed": true,
        "jupyter": {
          "source_hidden": false,
          "outputs_hidden": false
        },
        "nteract": {
          "transient": {
            "deleting": false
          }
        },
        "execution": {
          "iopub.status.busy": "2024-11-24T09:18:11.160Z",
          "iopub.execute_input": "2024-11-24T09:18:11.176Z",
          "iopub.status.idle": "2024-11-24T09:18:11.203Z",
          "shell.execute_reply": "2024-11-24T09:18:09.591Z"
        }
      }
    },
    {
      "cell_type": "markdown",
      "source": [
        "Using these values, we can now begin to solve for $R_1$ and $R_2$."
      ],
      "metadata": {
        "nteract": {
          "transient": {
            "deleting": false
          }
        }
      }
    },
    {
      "cell_type": "code",
      "source": [
        "sp.var(\"R_1 R_2\")"
      ],
      "outputs": [
        {
          "output_type": "execute_result",
          "execution_count": 13,
          "data": {
            "text/latex": "$\\displaystyle \\left( R_{1}, \\  R_{2}\\right)$",
            "text/plain": "(R_1, R_2)"
          },
          "metadata": {}
        }
      ],
      "execution_count": 13,
      "metadata": {
        "collapsed": true,
        "jupyter": {
          "source_hidden": false,
          "outputs_hidden": false
        },
        "nteract": {
          "transient": {
            "deleting": false
          }
        },
        "execution": {
          "iopub.status.busy": "2024-11-24T09:18:11.230Z",
          "iopub.execute_input": "2024-11-24T09:18:11.248Z",
          "iopub.status.idle": "2024-11-24T09:18:11.633Z",
          "shell.execute_reply": "2024-11-24T09:18:09.608Z"
        }
      }
    },
    {
      "cell_type": "markdown",
      "source": [
        "The amplifier input impedance ($R_{in}$) and the second resistor of the divider ($R_2$) can be combined together:"
      ],
      "metadata": {
        "nteract": {
          "transient": {
            "deleting": false
          }
        }
      }
    },
    {
      "cell_type": "code",
      "source": [
        "R_2_in = 1 / (1 / R_2 + 1 / Rin)\n",
        "R_2_in"
      ],
      "outputs": [
        {
          "output_type": "execute_result",
          "execution_count": 14,
          "data": {
            "text/plain": "100000/(100000/R_2 + 1)"
          },
          "metadata": {}
        }
      ],
      "execution_count": 14,
      "metadata": {
        "collapsed": true,
        "jupyter": {
          "source_hidden": false,
          "outputs_hidden": false
        },
        "nteract": {
          "transient": {
            "deleting": false
          }
        },
        "execution": {
          "iopub.status.busy": "2024-11-24T09:18:11.660Z",
          "iopub.execute_input": "2024-11-24T09:18:11.679Z",
          "iopub.status.idle": "2024-11-24T09:18:11.708Z",
          "shell.execute_reply": "2024-11-24T09:18:09.633Z"
        }
      }
    },
    {
      "cell_type": "markdown",
      "source": [
        "Similarly, this can be combined with the first resitor of the divider, $R_1$."
      ],
      "metadata": {
        "nteract": {
          "transient": {
            "deleting": false
          }
        }
      }
    },
    {
      "cell_type": "code",
      "source": [
        "R_12_in = R_1 + R_2_in\n",
        "R_12_in"
      ],
      "outputs": [
        {
          "output_type": "execute_result",
          "execution_count": 15,
          "data": {
            "text/latex": "$\\displaystyle R_{1} + \\frac{100000}{1 + \\frac{100000}{R_{2}}}$",
            "text/plain": "R_1 + 100000/(1 + 100000/R_2)"
          },
          "metadata": {}
        }
      ],
      "execution_count": 15,
      "metadata": {
        "collapsed": true,
        "jupyter": {
          "source_hidden": false,
          "outputs_hidden": false
        },
        "nteract": {
          "transient": {
            "deleting": false
          }
        },
        "execution": {
          "iopub.status.busy": "2024-11-24T09:18:11.735Z",
          "iopub.execute_input": "2024-11-24T09:18:11.752Z",
          "iopub.status.idle": "2024-11-24T09:18:11.790Z",
          "shell.execute_reply": "2024-11-24T09:18:09.651Z"
        }
      }
    },
    {
      "cell_type": "markdown",
      "source": [
        "Finally, $R_{down}$ can be included."
      ],
      "metadata": {
        "nteract": {
          "transient": {
            "deleting": false
          }
        }
      }
    },
    {
      "cell_type": "code",
      "source": [
        "R_down_12_in = 1 / (1 / Rdown + 1 / R_12_in)\n",
        "R_down_12_in"
      ],
      "outputs": [
        {
          "output_type": "execute_result",
          "execution_count": 16,
          "data": {
            "text/plain": "40000/(40000/(R_1 + 100000/(100000/R_2 + 1)) + 1)"
          },
          "metadata": {}
        }
      ],
      "execution_count": 16,
      "metadata": {
        "collapsed": true,
        "jupyter": {
          "source_hidden": false,
          "outputs_hidden": false
        },
        "nteract": {
          "transient": {
            "deleting": false
          }
        },
        "execution": {
          "iopub.status.busy": "2024-11-24T09:18:11.820Z",
          "iopub.execute_input": "2024-11-24T09:18:11.840Z",
          "iopub.status.idle": "2024-11-24T09:18:11.868Z",
          "shell.execute_reply": "2024-11-24T09:18:09.669Z"
        }
      }
    },
    {
      "cell_type": "markdown",
      "source": [
        "This has simlified the schematic to the following."
      ],
      "metadata": {
        "nteract": {
          "transient": {
            "deleting": false
          }
        }
      }
    },
    {
      "cell_type": "code",
      "source": [
        "d = schemdraw.Drawing()\n",
        "d.add(elm.Dot(at=(0, 0), label=\"$V_{in}$\"))\n",
        "d.add(elm.Resistor(d='r', label=\"$R_{out}$\"))\n",
        "d.add(elm.Line(d='r', l=1))\n",
        "d.add(elm.Dot(label=r\"$V_{in\\_corr}$\"))\n",
        "d.add(elm.Resistor(d='d', at=(3, 0), label=r\"$R_{down\\_12\\_in}$\"))\n",
        "d.add(elm.Ground())\n",
        "d.draw()"
      ],
      "outputs": [
        {
          "output_type": "execute_result",
          "execution_count": 17,
          "data": {
            "image/svg+xml": "<?xml version=\"1.0\" encoding=\"utf-8\" standalone=\"no\"?>\n<!DOCTYPE svg PUBLIC \"-//W3C//DTD SVG 1.1//EN\"\n  \"http://www.w3.org/Graphics/SVG/1.1/DTD/svg11.dtd\">\n<svg xmlns:xlink=\"http://www.w3.org/1999/xlink\" width=\"194.772pt\" height=\"164.2pt\" viewBox=\"0 0 194.772 164.2\" xmlns=\"http://www.w3.org/2000/svg\" version=\"1.1\">\n <metadata>\n  <rdf:RDF xmlns:dc=\"http://purl.org/dc/elements/1.1/\" xmlns:cc=\"http://creativecommons.org/ns#\" xmlns:rdf=\"http://www.w3.org/1999/02/22-rdf-syntax-ns#\">\n   <cc:Work>\n    <dc:type rdf:resource=\"http://purl.org/dc/dcmitype/StillImage\"/>\n    <dc:date>2024-11-24T01:18:05.358924</dc:date>\n    <dc:format>image/svg+xml</dc:format>\n    <dc:creator>\n     <cc:Agent>\n      <dc:title>Matplotlib v3.7.5, https://matplotlib.org/</dc:title>\n     </cc:Agent>\n    </dc:creator>\n   </cc:Work>\n  </rdf:RDF>\n </metadata>\n <defs>\n  <style type=\"text/css\">*{stroke-linejoin: round; stroke-linecap: butt}</style>\n </defs>\n <g id=\"figure_1\">\n  <g id=\"patch_1\">\n   <path d=\"M 0 164.2 \nL 194.772 164.2 \nL 194.772 0 \nL 0 0 \nL 0 164.2 \nz\n\" style=\"fill: none\"/>\n  </g>\n  <g id=\"axes_1\">\n   <g id=\"line2d_1\">\n    <path d=\"M 16.482 28.48 \nL 52.482 28.48 \nL 55.482 19.48 \nL 61.482 37.48 \nL 67.482 19.48 \nL 73.482 37.48 \nL 79.482 19.48 \nL 85.482 37.48 \nL 88.482 28.48 \nL 124.482 28.48 \n\" clip-path=\"url(#p3758d4297e)\" style=\"fill: none; stroke: #000000; stroke-width: 2; stroke-linecap: round\"/>\n   </g>\n   <g id=\"line2d_2\">\n    <path d=\"M 124.482 28.48 \nL 142.482 28.48 \nL 160.482 28.48 \n\" clip-path=\"url(#p3758d4297e)\" style=\"fill: none; stroke: #000000; stroke-width: 2; stroke-linecap: round\"/>\n   </g>\n   <g id=\"line2d_3\">\n    <path d=\"M 124.482 28.48 \nL 124.482 64.48 \nL 133.482 67.48 \nL 115.482 73.48 \nL 133.482 79.48 \nL 115.482 85.48 \nL 133.482 91.48 \nL 115.482 97.48 \nL 124.482 100.48 \nL 124.482 136.48 \n\" clip-path=\"url(#p3758d4297e)\" style=\"fill: none; stroke: #000000; stroke-width: 2; stroke-linecap: round\"/>\n   </g>\n   <g id=\"line2d_4\">\n    <path d=\"M 124.482 136.48 \nL 124.482 150.88 \nL 115.482 150.88 \nL 133.482 150.88 \nM 118.182 155.2 \nL 130.782 155.2 \nM 122.682 159.52 \nL 126.282 159.52 \n\" clip-path=\"url(#p3758d4297e)\" style=\"fill: none; stroke: #000000; stroke-width: 2; stroke-linecap: round\"/>\n   </g>\n   <g id=\"text_1\">\n    <!-- $R_{out}$ -->\n    <g transform=\"translate(57.392 12.968437) scale(0.14 -0.14)\">\n     <defs>\n      <path id=\"DejaVuSans-Oblique-52\" d=\"M 1613 4147 \nL 1294 2491 \nL 2106 2491 \nQ 2584 2491 2879 2755 \nQ 3175 3019 3175 3444 \nQ 3175 3784 2976 3965 \nQ 2778 4147 2406 4147 \nL 1613 4147 \nz\nM 2772 2241 \nQ 2972 2194 3105 2009 \nQ 3238 1825 3413 1275 \nL 3809 0 \nL 3144 0 \nL 2778 1197 \nQ 2638 1659 2453 1815 \nQ 2269 1972 1888 1972 \nL 1191 1972 \nL 806 0 \nL 172 0 \nL 1081 4666 \nL 2503 4666 \nQ 3150 4666 3495 4373 \nQ 3841 4081 3841 3531 \nQ 3841 3044 3547 2687 \nQ 3253 2331 2772 2241 \nz\n\" transform=\"scale(0.015625)\"/>\n      <path id=\"DejaVuSans-Oblique-6f\" d=\"M 1625 -91 \nQ 1009 -91 651 289 \nQ 294 669 294 1325 \nQ 294 1706 417 2101 \nQ 541 2497 738 2766 \nQ 1047 3184 1428 3384 \nQ 1809 3584 2291 3584 \nQ 2888 3584 3255 3212 \nQ 3622 2841 3622 2241 \nQ 3622 1825 3500 1412 \nQ 3378 1000 3181 728 \nQ 2875 309 2494 109 \nQ 2113 -91 1625 -91 \nz\nM 891 1344 \nQ 891 869 1089 633 \nQ 1288 397 1691 397 \nQ 2269 397 2648 901 \nQ 3028 1406 3028 2181 \nQ 3028 2634 2825 2865 \nQ 2622 3097 2228 3097 \nQ 1903 3097 1650 2945 \nQ 1397 2794 1197 2484 \nQ 1050 2253 970 1956 \nQ 891 1659 891 1344 \nz\n\" transform=\"scale(0.015625)\"/>\n      <path id=\"DejaVuSans-Oblique-75\" d=\"M 428 1388 \nL 838 3500 \nL 1416 3500 \nL 1006 1409 \nQ 975 1256 961 1147 \nQ 947 1038 947 966 \nQ 947 700 1109 554 \nQ 1272 409 1569 409 \nQ 2031 409 2368 721 \nQ 2706 1034 2809 1563 \nL 3194 3500 \nL 3769 3500 \nL 3091 0 \nL 2516 0 \nL 2631 550 \nQ 2388 244 2052 76 \nQ 1716 -91 1338 -91 \nQ 878 -91 622 161 \nQ 366 413 366 863 \nQ 366 956 381 1097 \nQ 397 1238 428 1388 \nz\n\" transform=\"scale(0.015625)\"/>\n      <path id=\"DejaVuSans-Oblique-74\" d=\"M 2706 3500 \nL 2619 3053 \nL 1472 3053 \nL 1100 1153 \nQ 1081 1047 1072 975 \nQ 1063 903 1063 863 \nQ 1063 663 1183 572 \nQ 1303 481 1569 481 \nL 2150 481 \nL 2053 0 \nL 1503 0 \nQ 991 0 739 200 \nQ 488 400 488 806 \nQ 488 878 497 964 \nQ 506 1050 525 1153 \nL 897 3053 \nL 409 3053 \nL 500 3500 \nL 978 3500 \nL 1172 4494 \nL 1747 4494 \nL 1556 3500 \nL 2706 3500 \nz\n\" transform=\"scale(0.015625)\"/>\n     </defs>\n     <use xlink:href=\"#DejaVuSans-Oblique-52\" transform=\"translate(0 0.09375)\"/>\n     <use xlink:href=\"#DejaVuSans-Oblique-6f\" transform=\"translate(69.482422 -16.3125) scale(0.7)\"/>\n     <use xlink:href=\"#DejaVuSans-Oblique-75\" transform=\"translate(112.30957 -16.3125) scale(0.7)\"/>\n     <use xlink:href=\"#DejaVuSans-Oblique-74\" transform=\"translate(156.674805 -16.3125) scale(0.7)\"/>\n    </g>\n   </g>\n   <g id=\"text_2\">\n    <!-- $R_{down\\_12\\_in}$ -->\n    <g transform=\"translate(44.122 85.28) scale(0.14 -0.14)\">\n     <defs>\n      <path id=\"DejaVuSans-Oblique-64\" d=\"M 2675 525 \nQ 2444 222 2128 65 \nQ 1813 -91 1428 -91 \nQ 903 -91 598 267 \nQ 294 625 294 1247 \nQ 294 1766 478 2236 \nQ 663 2706 1013 3078 \nQ 1244 3325 1534 3454 \nQ 1825 3584 2144 3584 \nQ 2481 3584 2739 3421 \nQ 2997 3259 3138 2956 \nL 3513 4863 \nL 4091 4863 \nL 3144 0 \nL 2566 0 \nL 2675 525 \nz\nM 891 1350 \nQ 891 897 1095 644 \nQ 1300 391 1663 391 \nQ 1931 391 2161 520 \nQ 2391 650 2566 903 \nQ 2750 1166 2856 1509 \nQ 2963 1853 2963 2188 \nQ 2963 2622 2758 2865 \nQ 2553 3109 2194 3109 \nQ 1922 3109 1687 2981 \nQ 1453 2853 1288 2613 \nQ 1106 2353 998 2009 \nQ 891 1666 891 1350 \nz\n\" transform=\"scale(0.015625)\"/>\n      <path id=\"DejaVuSans-Oblique-77\" d=\"M 544 3500 \nL 1113 3500 \nL 1259 684 \nL 2566 3500 \nL 3231 3500 \nL 3425 684 \nL 4666 3500 \nL 5241 3500 \nL 3641 0 \nL 2969 0 \nL 2797 2900 \nL 1459 0 \nL 781 0 \nL 544 3500 \nz\n\" transform=\"scale(0.015625)\"/>\n      <path id=\"DejaVuSans-Oblique-6e\" d=\"M 3566 2113 \nL 3156 0 \nL 2578 0 \nL 2988 2091 \nQ 3016 2238 3031 2350 \nQ 3047 2463 3047 2528 \nQ 3047 2791 2881 2937 \nQ 2716 3084 2419 3084 \nQ 1956 3084 1622 2776 \nQ 1288 2469 1184 1941 \nL 800 0 \nL 225 0 \nL 903 3500 \nL 1478 3500 \nL 1363 2950 \nQ 1603 3253 1940 3418 \nQ 2278 3584 2650 3584 \nQ 3113 3584 3367 3334 \nQ 3622 3084 3622 2631 \nQ 3622 2519 3608 2391 \nQ 3594 2263 3566 2113 \nz\n\" transform=\"scale(0.015625)\"/>\n      <path id=\"DejaVuSans-5f\" d=\"M 3263 -1063 \nL 3263 -1509 \nL -63 -1509 \nL -63 -1063 \nL 3263 -1063 \nz\n\" transform=\"scale(0.015625)\"/>\n      <path id=\"DejaVuSans-31\" d=\"M 794 531 \nL 1825 531 \nL 1825 4091 \nL 703 3866 \nL 703 4441 \nL 1819 4666 \nL 2450 4666 \nL 2450 531 \nL 3481 531 \nL 3481 0 \nL 794 0 \nL 794 531 \nz\n\" transform=\"scale(0.015625)\"/>\n      <path id=\"DejaVuSans-32\" d=\"M 1228 531 \nL 3431 531 \nL 3431 0 \nL 469 0 \nL 469 531 \nQ 828 903 1448 1529 \nQ 2069 2156 2228 2338 \nQ 2531 2678 2651 2914 \nQ 2772 3150 2772 3378 \nQ 2772 3750 2511 3984 \nQ 2250 4219 1831 4219 \nQ 1534 4219 1204 4116 \nQ 875 4013 500 3803 \nL 500 4441 \nQ 881 4594 1212 4672 \nQ 1544 4750 1819 4750 \nQ 2544 4750 2975 4387 \nQ 3406 4025 3406 3419 \nQ 3406 3131 3298 2873 \nQ 3191 2616 2906 2266 \nQ 2828 2175 2409 1742 \nQ 1991 1309 1228 531 \nz\n\" transform=\"scale(0.015625)\"/>\n      <path id=\"DejaVuSans-Oblique-69\" d=\"M 1172 4863 \nL 1747 4863 \nL 1606 4134 \nL 1031 4134 \nL 1172 4863 \nz\nM 909 3500 \nL 1484 3500 \nL 800 0 \nL 225 0 \nL 909 3500 \nz\n\" transform=\"scale(0.015625)\"/>\n     </defs>\n     <use xlink:href=\"#DejaVuSans-Oblique-52\" transform=\"translate(0 0.09375)\"/>\n     <use xlink:href=\"#DejaVuSans-Oblique-64\" transform=\"translate(69.482422 -16.3125) scale(0.7)\"/>\n     <use xlink:href=\"#DejaVuSans-Oblique-6f\" transform=\"translate(113.916016 -16.3125) scale(0.7)\"/>\n     <use xlink:href=\"#DejaVuSans-Oblique-77\" transform=\"translate(156.743164 -16.3125) scale(0.7)\"/>\n     <use xlink:href=\"#DejaVuSans-Oblique-6e\" transform=\"translate(213.994141 -16.3125) scale(0.7)\"/>\n     <use xlink:href=\"#DejaVuSans-5f\" transform=\"translate(258.359375 -16.3125) scale(0.7)\"/>\n     <use xlink:href=\"#DejaVuSans-31\" transform=\"translate(293.359375 -16.3125) scale(0.7)\"/>\n     <use xlink:href=\"#DejaVuSans-32\" transform=\"translate(337.895508 -16.3125) scale(0.7)\"/>\n     <use xlink:href=\"#DejaVuSans-5f\" transform=\"translate(382.431641 -16.3125) scale(0.7)\"/>\n     <use xlink:href=\"#DejaVuSans-Oblique-69\" transform=\"translate(417.431641 -16.3125) scale(0.7)\"/>\n     <use xlink:href=\"#DejaVuSans-Oblique-6e\" transform=\"translate(436.879883 -16.3125) scale(0.7)\"/>\n    </g>\n   </g>\n   <g id=\"patch_2\">\n    <path d=\"M 16.482 31.18 \nC 17.198048 31.18 17.884866 30.895511 18.391188 30.389188 \nC 18.897511 29.882866 19.182 29.196048 19.182 28.48 \nC 19.182 27.763952 18.897511 27.077134 18.391188 26.570812 \nC 17.884866 26.064489 17.198048 25.78 16.482 25.78 \nC 15.765952 25.78 15.079134 26.064489 14.572812 26.570812 \nC 14.066489 27.077134 13.782 27.763952 13.782 28.48 \nC 13.782 29.196048 14.066489 29.882866 14.572812 30.389188 \nC 15.079134 30.895511 15.765952 31.18 16.482 31.18 \nz\n\" clip-path=\"url(#p3758d4297e)\" style=\"stroke: #000000; stroke-width: 2; stroke-linejoin: miter\"/>\n   </g>\n   <g id=\"text_3\">\n    <!-- $V_{in}$ -->\n    <g transform=\"translate(7.032 19.268437) scale(0.14 -0.14)\">\n     <defs>\n      <path id=\"DejaVuSans-Oblique-56\" d=\"M 1319 0 \nL 500 4666 \nL 1119 4666 \nL 1797 653 \nL 4063 4666 \nL 4750 4666 \nL 2053 0 \nL 1319 0 \nz\n\" transform=\"scale(0.015625)\"/>\n     </defs>\n     <use xlink:href=\"#DejaVuSans-Oblique-56\" transform=\"translate(0 0.09375)\"/>\n     <use xlink:href=\"#DejaVuSans-Oblique-69\" transform=\"translate(68.408203 -16.3125) scale(0.7)\"/>\n     <use xlink:href=\"#DejaVuSans-Oblique-6e\" transform=\"translate(87.856445 -16.3125) scale(0.7)\"/>\n    </g>\n   </g>\n   <g id=\"patch_3\">\n    <path d=\"M 160.482 31.18 \nC 161.198048 31.18 161.884866 30.895511 162.391188 30.389188 \nC 162.897511 29.882866 163.182 29.196048 163.182 28.48 \nC 163.182 27.763952 162.897511 27.077134 162.391188 26.570812 \nC 161.884866 26.064489 161.198048 25.78 160.482 25.78 \nC 159.765952 25.78 159.079134 26.064489 158.572812 26.570812 \nC 158.066489 27.077134 157.782 27.763952 157.782 28.48 \nC 157.782 29.196048 158.066489 29.882866 158.572812 30.389188 \nC 159.079134 30.895511 159.765952 31.18 160.482 31.18 \nz\n\" clip-path=\"url(#p3758d4297e)\" style=\"stroke: #000000; stroke-width: 2; stroke-linejoin: miter\"/>\n   </g>\n   <g id=\"text_4\">\n    <!-- $V_{in\\_corr}$ -->\n    <g transform=\"translate(138.852 17.56) scale(0.14 -0.14)\">\n     <defs>\n      <path id=\"DejaVuSans-Oblique-63\" d=\"M 3431 3366 \nL 3316 2797 \nQ 3109 2947 2876 3022 \nQ 2644 3097 2394 3097 \nQ 2119 3097 1870 3000 \nQ 1622 2903 1453 2725 \nQ 1184 2453 1037 2087 \nQ 891 1722 891 1331 \nQ 891 859 1127 628 \nQ 1363 397 1844 397 \nQ 2081 397 2348 469 \nQ 2616 541 2906 684 \nL 2797 116 \nQ 2547 13 2283 -39 \nQ 2019 -91 1741 -91 \nQ 1044 -91 669 257 \nQ 294 606 294 1253 \nQ 294 1797 489 2255 \nQ 684 2713 1069 3078 \nQ 1331 3328 1684 3456 \nQ 2038 3584 2456 3584 \nQ 2700 3584 2940 3529 \nQ 3181 3475 3431 3366 \nz\n\" transform=\"scale(0.015625)\"/>\n      <path id=\"DejaVuSans-Oblique-72\" d=\"M 2853 2969 \nQ 2766 3016 2653 3041 \nQ 2541 3066 2413 3066 \nQ 1953 3066 1609 2717 \nQ 1266 2369 1153 1784 \nL 800 0 \nL 225 0 \nL 909 3500 \nL 1484 3500 \nL 1375 2956 \nQ 1603 3259 1920 3421 \nQ 2238 3584 2597 3584 \nQ 2691 3584 2781 3573 \nQ 2872 3563 2963 3538 \nL 2853 2969 \nz\n\" transform=\"scale(0.015625)\"/>\n     </defs>\n     <use xlink:href=\"#DejaVuSans-Oblique-56\" transform=\"translate(0 0.09375)\"/>\n     <use xlink:href=\"#DejaVuSans-Oblique-69\" transform=\"translate(68.408203 -16.3125) scale(0.7)\"/>\n     <use xlink:href=\"#DejaVuSans-Oblique-6e\" transform=\"translate(87.856445 -16.3125) scale(0.7)\"/>\n     <use xlink:href=\"#DejaVuSans-5f\" transform=\"translate(132.22168 -16.3125) scale(0.7)\"/>\n     <use xlink:href=\"#DejaVuSans-Oblique-63\" transform=\"translate(167.22168 -16.3125) scale(0.7)\"/>\n     <use xlink:href=\"#DejaVuSans-Oblique-6f\" transform=\"translate(205.708008 -16.3125) scale(0.7)\"/>\n     <use xlink:href=\"#DejaVuSans-Oblique-72\" transform=\"translate(248.535156 -16.3125) scale(0.7)\"/>\n     <use xlink:href=\"#DejaVuSans-Oblique-72\" transform=\"translate(277.314453 -16.3125) scale(0.7)\"/>\n    </g>\n   </g>\n  </g>\n </g>\n <defs>\n  <clipPath id=\"p3758d4297e\">\n   <rect x=\"0\" y=\"0\" width=\"194.772\" height=\"164.2\"/>\n  </clipPath>\n </defs>\n</svg>\n",
            "image/png": "[encoded data removed]",
            "text/plain": "<schemdraw.backends.mpl.Figure object at 0x7f56bfd591f0>"
          },
          "metadata": {}
        }
      ],
      "execution_count": 17,
      "metadata": {
        "collapsed": true,
        "jupyter": {
          "source_hidden": false,
          "outputs_hidden": false
        },
        "nteract": {
          "transient": {
            "deleting": false
          }
        },
        "execution": {
          "iopub.status.busy": "2024-11-24T09:18:11.894Z",
          "iopub.execute_input": "2024-11-24T09:18:11.912Z",
          "iopub.status.idle": "2024-11-24T09:18:11.942Z",
          "shell.execute_reply": "2024-11-24T09:18:09.689Z"
        }
      }
    },
    {
      "cell_type": "markdown",
      "source": [
        "Therefore, $V_{in\\_corr}$ can be calculated:"
      ],
      "metadata": {
        "nteract": {
          "transient": {
            "deleting": false
          }
        }
      }
    },
    {
      "cell_type": "code",
      "source": [
        "V_in_corr = Vin * R_down_12_in / (R_down_12_in + Rout)\n",
        "V_in_corr"
      ],
      "outputs": [
        {
          "output_type": "execute_result",
          "execution_count": 18,
          "data": {
            "text/plain": "124000.000000000/((40000/(R_1 + 100000/(100000/R_2 + 1)) + 1)*(40000/(40000/(R_1 + 100000/(100000/R_2 + 1)) + 1) + 146.02001447630713))"
          },
          "metadata": {}
        }
      ],
      "execution_count": 18,
      "metadata": {
        "collapsed": true,
        "jupyter": {
          "source_hidden": false,
          "outputs_hidden": false
        },
        "nteract": {
          "transient": {
            "deleting": false
          }
        },
        "execution": {
          "iopub.status.busy": "2024-11-24T09:18:11.967Z",
          "iopub.execute_input": "2024-11-24T09:18:11.984Z",
          "iopub.status.idle": "2024-11-24T09:18:12.011Z",
          "shell.execute_reply": "2024-11-24T09:18:09.710Z"
        }
      }
    },
    {
      "cell_type": "markdown",
      "source": [
        "This can be used to simplify the schematic to:"
      ],
      "metadata": {
        "nteract": {
          "transient": {
            "deleting": false
          }
        }
      }
    },
    {
      "cell_type": "code",
      "source": [
        "d = schemdraw.Drawing()\n",
        "d.add(elm.Dot(at=(0, 0), label=r\"$V_{in\\_corr}$\"))\n",
        "d.add(elm.Resistor(d='r', label=\"$R_1$\"))\n",
        "d.add(elm.Line(d='r', l=4))\n",
        "d.add(elm.Dot(label=r\"$V_{out}$\"))\n",
        "d.add(elm.Resistor(d='d', at=(3, 0), label=r\"$R_2$\"))\n",
        "d.add(elm.Line(d='r', l=1.5))\n",
        "d.add(elm.Ground())\n",
        "d.add(elm.Resistor(d='d', at=(6, 0), label=\"$R_{in}$\"))\n",
        "d.add(elm.Line(d='l', l=1.5))\n",
        "d.draw()"
      ],
      "outputs": [
        {
          "output_type": "execute_result",
          "execution_count": 19,
          "data": {
            "image/svg+xml": "<?xml version=\"1.0\" encoding=\"utf-8\" standalone=\"no\"?>\n<!DOCTYPE svg PUBLIC \"-//W3C//DTD SVG 1.1//EN\"\n  \"http://www.w3.org/Graphics/SVG/1.1/DTD/svg11.dtd\">\n<svg xmlns:xlink=\"http://www.w3.org/1999/xlink\" width=\"307.308pt\" height=\"164.2pt\" viewBox=\"0 0 307.308 164.2\" xmlns=\"http://www.w3.org/2000/svg\" version=\"1.1\">\n <metadata>\n  <rdf:RDF xmlns:dc=\"http://purl.org/dc/elements/1.1/\" xmlns:cc=\"http://creativecommons.org/ns#\" xmlns:rdf=\"http://www.w3.org/1999/02/22-rdf-syntax-ns#\">\n   <cc:Work>\n    <dc:type rdf:resource=\"http://purl.org/dc/dcmitype/StillImage\"/>\n    <dc:date>2024-11-24T01:18:05.605123</dc:date>\n    <dc:format>image/svg+xml</dc:format>\n    <dc:creator>\n     <cc:Agent>\n      <dc:title>Matplotlib v3.7.5, https://matplotlib.org/</dc:title>\n     </cc:Agent>\n    </dc:creator>\n   </cc:Work>\n  </rdf:RDF>\n </metadata>\n <defs>\n  <style type=\"text/css\">*{stroke-linejoin: round; stroke-linecap: butt}</style>\n </defs>\n <g id=\"figure_1\">\n  <g id=\"patch_1\">\n   <path d=\"M 0 164.2 \nL 307.308 164.2 \nL 307.308 0 \nL 0 0 \nL 0 164.2 \nz\n\" style=\"fill: none\"/>\n  </g>\n  <g id=\"axes_1\">\n   <g id=\"line2d_1\">\n    <path d=\"M 34.29 28.48 \nL 70.29 28.48 \nL 73.29 19.48 \nL 79.29 37.48 \nL 85.29 19.48 \nL 91.29 37.48 \nL 97.29 19.48 \nL 103.29 37.48 \nL 106.29 28.48 \nL 142.29 28.48 \n\" clip-path=\"url(#p1aa86574a1)\" style=\"fill: none; stroke: #000000; stroke-width: 2; stroke-linecap: round\"/>\n   </g>\n   <g id=\"line2d_2\">\n    <path d=\"M 142.29 28.48 \nL 214.29 28.48 \nL 286.29 28.48 \n\" clip-path=\"url(#p1aa86574a1)\" style=\"fill: none; stroke: #000000; stroke-width: 2; stroke-linecap: round\"/>\n   </g>\n   <g id=\"line2d_3\">\n    <path d=\"M 142.29 28.48 \nL 142.29 64.48 \nL 151.29 67.48 \nL 133.29 73.48 \nL 151.29 79.48 \nL 133.29 85.48 \nL 151.29 91.48 \nL 133.29 97.48 \nL 142.29 100.48 \nL 142.29 136.48 \n\" clip-path=\"url(#p1aa86574a1)\" style=\"fill: none; stroke: #000000; stroke-width: 2; stroke-linecap: round\"/>\n   </g>\n   <g id=\"line2d_4\">\n    <path d=\"M 142.29 136.48 \nL 169.29 136.48 \nL 196.29 136.48 \n\" clip-path=\"url(#p1aa86574a1)\" style=\"fill: none; stroke: #000000; stroke-width: 2; stroke-linecap: round\"/>\n   </g>\n   <g id=\"line2d_5\">\n    <path d=\"M 196.29 136.48 \nL 196.29 150.88 \nL 187.29 150.88 \nL 205.29 150.88 \nM 189.99 155.2 \nL 202.59 155.2 \nM 194.49 159.52 \nL 198.09 159.52 \n\" clip-path=\"url(#p1aa86574a1)\" style=\"fill: none; stroke: #000000; stroke-width: 2; stroke-linecap: round\"/>\n   </g>\n   <g id=\"line2d_6\">\n    <path d=\"M 250.29 28.48 \nL 250.29 64.48 \nL 259.29 67.48 \nL 241.29 73.48 \nL 259.29 79.48 \nL 241.29 85.48 \nL 259.29 91.48 \nL 241.29 97.48 \nL 250.29 100.48 \nL 250.29 136.48 \n\" clip-path=\"url(#p1aa86574a1)\" style=\"fill: none; stroke: #000000; stroke-width: 2; stroke-linecap: round\"/>\n   </g>\n   <g id=\"line2d_7\">\n    <path d=\"M 250.29 136.48 \nL 223.29 136.48 \nL 196.29 136.48 \n\" clip-path=\"url(#p1aa86574a1)\" style=\"fill: none; stroke: #000000; stroke-width: 2; stroke-linecap: round\"/>\n   </g>\n   <g id=\"text_1\">\n    <!-- $R_1$ -->\n    <g transform=\"translate(80.1 12.968437) scale(0.14 -0.14)\">\n     <defs>\n      <path id=\"DejaVuSans-Oblique-52\" d=\"M 1613 4147 \nL 1294 2491 \nL 2106 2491 \nQ 2584 2491 2879 2755 \nQ 3175 3019 3175 3444 \nQ 3175 3784 2976 3965 \nQ 2778 4147 2406 4147 \nL 1613 4147 \nz\nM 2772 2241 \nQ 2972 2194 3105 2009 \nQ 3238 1825 3413 1275 \nL 3809 0 \nL 3144 0 \nL 2778 1197 \nQ 2638 1659 2453 1815 \nQ 2269 1972 1888 1972 \nL 1191 1972 \nL 806 0 \nL 172 0 \nL 1081 4666 \nL 2503 4666 \nQ 3150 4666 3495 4373 \nQ 3841 4081 3841 3531 \nQ 3841 3044 3547 2687 \nQ 3253 2331 2772 2241 \nz\n\" transform=\"scale(0.015625)\"/>\n      <path id=\"DejaVuSans-31\" d=\"M 794 531 \nL 1825 531 \nL 1825 4091 \nL 703 3866 \nL 703 4441 \nL 1819 4666 \nL 2450 4666 \nL 2450 531 \nL 3481 531 \nL 3481 0 \nL 794 0 \nL 794 531 \nz\n\" transform=\"scale(0.015625)\"/>\n     </defs>\n     <use xlink:href=\"#DejaVuSans-Oblique-52\" transform=\"translate(0 0.09375)\"/>\n     <use xlink:href=\"#DejaVuSans-31\" transform=\"translate(69.482422 -16.3125) scale(0.7)\"/>\n    </g>\n   </g>\n   <g id=\"text_2\">\n    <!-- $R_2$ -->\n    <g transform=\"translate(113.31 86.343125) scale(0.14 -0.14)\">\n     <defs>\n      <path id=\"DejaVuSans-32\" d=\"M 1228 531 \nL 3431 531 \nL 3431 0 \nL 469 0 \nL 469 531 \nQ 828 903 1448 1529 \nQ 2069 2156 2228 2338 \nQ 2531 2678 2651 2914 \nQ 2772 3150 2772 3378 \nQ 2772 3750 2511 3984 \nQ 2250 4219 1831 4219 \nQ 1534 4219 1204 4116 \nQ 875 4013 500 3803 \nL 500 4441 \nQ 881 4594 1212 4672 \nQ 1544 4750 1819 4750 \nQ 2544 4750 2975 4387 \nQ 3406 4025 3406 3419 \nQ 3406 3131 3298 2873 \nQ 3191 2616 2906 2266 \nQ 2828 2175 2409 1742 \nQ 1991 1309 1228 531 \nz\n\" transform=\"scale(0.015625)\"/>\n     </defs>\n     <use xlink:href=\"#DejaVuSans-Oblique-52\" transform=\"translate(0 0.09375)\"/>\n     <use xlink:href=\"#DejaVuSans-32\" transform=\"translate(69.482422 -16.3125) scale(0.7)\"/>\n    </g>\n   </g>\n   <g id=\"text_3\">\n    <!-- $R_{in}$ -->\n    <g transform=\"translate(218.51 86.343125) scale(0.14 -0.14)\">\n     <defs>\n      <path id=\"DejaVuSans-Oblique-69\" d=\"M 1172 4863 \nL 1747 4863 \nL 1606 4134 \nL 1031 4134 \nL 1172 4863 \nz\nM 909 3500 \nL 1484 3500 \nL 800 0 \nL 225 0 \nL 909 3500 \nz\n\" transform=\"scale(0.015625)\"/>\n      <path id=\"DejaVuSans-Oblique-6e\" d=\"M 3566 2113 \nL 3156 0 \nL 2578 0 \nL 2988 2091 \nQ 3016 2238 3031 2350 \nQ 3047 2463 3047 2528 \nQ 3047 2791 2881 2937 \nQ 2716 3084 2419 3084 \nQ 1956 3084 1622 2776 \nQ 1288 2469 1184 1941 \nL 800 0 \nL 225 0 \nL 903 3500 \nL 1478 3500 \nL 1363 2950 \nQ 1603 3253 1940 3418 \nQ 2278 3584 2650 3584 \nQ 3113 3584 3367 3334 \nQ 3622 3084 3622 2631 \nQ 3622 2519 3608 2391 \nQ 3594 2263 3566 2113 \nz\n\" transform=\"scale(0.015625)\"/>\n     </defs>\n     <use xlink:href=\"#DejaVuSans-Oblique-52\" transform=\"translate(0 0.09375)\"/>\n     <use xlink:href=\"#DejaVuSans-Oblique-69\" transform=\"translate(69.482422 -16.3125) scale(0.7)\"/>\n     <use xlink:href=\"#DejaVuSans-Oblique-6e\" transform=\"translate(88.930664 -16.3125) scale(0.7)\"/>\n    </g>\n   </g>\n   <g id=\"patch_2\">\n    <path d=\"M 34.29 31.18 \nC 35.006048 31.18 35.692866 30.895511 36.199188 30.389188 \nC 36.705511 29.882866 36.99 29.196048 36.99 28.48 \nC 36.99 27.763952 36.705511 27.077134 36.199188 26.570812 \nC 35.692866 26.064489 35.006048 25.78 34.29 25.78 \nC 33.573952 25.78 32.887134 26.064489 32.380812 26.570812 \nC 31.874489 27.077134 31.59 27.763952 31.59 28.48 \nC 31.59 29.196048 31.874489 29.882866 32.380812 30.389188 \nC 32.887134 30.895511 33.573952 31.18 34.29 31.18 \nz\n\" clip-path=\"url(#p1aa86574a1)\" style=\"stroke: #000000; stroke-width: 2; stroke-linejoin: miter\"/>\n   </g>\n   <g id=\"text_4\">\n    <!-- $V_{in\\_corr}$ -->\n    <g transform=\"translate(12.66 17.56) scale(0.14 -0.14)\">\n     <defs>\n      <path id=\"DejaVuSans-Oblique-56\" d=\"M 1319 0 \nL 500 4666 \nL 1119 4666 \nL 1797 653 \nL 4063 4666 \nL 4750 4666 \nL 2053 0 \nL 1319 0 \nz\n\" transform=\"scale(0.015625)\"/>\n      <path id=\"DejaVuSans-5f\" d=\"M 3263 -1063 \nL 3263 -1509 \nL -63 -1509 \nL -63 -1063 \nL 3263 -1063 \nz\n\" transform=\"scale(0.015625)\"/>\n      <path id=\"DejaVuSans-Oblique-63\" d=\"M 3431 3366 \nL 3316 2797 \nQ 3109 2947 2876 3022 \nQ 2644 3097 2394 3097 \nQ 2119 3097 1870 3000 \nQ 1622 2903 1453 2725 \nQ 1184 2453 1037 2087 \nQ 891 1722 891 1331 \nQ 891 859 1127 628 \nQ 1363 397 1844 397 \nQ 2081 397 2348 469 \nQ 2616 541 2906 684 \nL 2797 116 \nQ 2547 13 2283 -39 \nQ 2019 -91 1741 -91 \nQ 1044 -91 669 257 \nQ 294 606 294 1253 \nQ 294 1797 489 2255 \nQ 684 2713 1069 3078 \nQ 1331 3328 1684 3456 \nQ 2038 3584 2456 3584 \nQ 2700 3584 2940 3529 \nQ 3181 3475 3431 3366 \nz\n\" transform=\"scale(0.015625)\"/>\n      <path id=\"DejaVuSans-Oblique-6f\" d=\"M 1625 -91 \nQ 1009 -91 651 289 \nQ 294 669 294 1325 \nQ 294 1706 417 2101 \nQ 541 2497 738 2766 \nQ 1047 3184 1428 3384 \nQ 1809 3584 2291 3584 \nQ 2888 3584 3255 3212 \nQ 3622 2841 3622 2241 \nQ 3622 1825 3500 1412 \nQ 3378 1000 3181 728 \nQ 2875 309 2494 109 \nQ 2113 -91 1625 -91 \nz\nM 891 1344 \nQ 891 869 1089 633 \nQ 1288 397 1691 397 \nQ 2269 397 2648 901 \nQ 3028 1406 3028 2181 \nQ 3028 2634 2825 2865 \nQ 2622 3097 2228 3097 \nQ 1903 3097 1650 2945 \nQ 1397 2794 1197 2484 \nQ 1050 2253 970 1956 \nQ 891 1659 891 1344 \nz\n\" transform=\"scale(0.015625)\"/>\n      <path id=\"DejaVuSans-Oblique-72\" d=\"M 2853 2969 \nQ 2766 3016 2653 3041 \nQ 2541 3066 2413 3066 \nQ 1953 3066 1609 2717 \nQ 1266 2369 1153 1784 \nL 800 0 \nL 225 0 \nL 909 3500 \nL 1484 3500 \nL 1375 2956 \nQ 1603 3259 1920 3421 \nQ 2238 3584 2597 3584 \nQ 2691 3584 2781 3573 \nQ 2872 3563 2963 3538 \nL 2853 2969 \nz\n\" transform=\"scale(0.015625)\"/>\n     </defs>\n     <use xlink:href=\"#DejaVuSans-Oblique-56\" transform=\"translate(0 0.09375)\"/>\n     <use xlink:href=\"#DejaVuSans-Oblique-69\" transform=\"translate(68.408203 -16.3125) scale(0.7)\"/>\n     <use xlink:href=\"#DejaVuSans-Oblique-6e\" transform=\"translate(87.856445 -16.3125) scale(0.7)\"/>\n     <use xlink:href=\"#DejaVuSans-5f\" transform=\"translate(132.22168 -16.3125) scale(0.7)\"/>\n     <use xlink:href=\"#DejaVuSans-Oblique-63\" transform=\"translate(167.22168 -16.3125) scale(0.7)\"/>\n     <use xlink:href=\"#DejaVuSans-Oblique-6f\" transform=\"translate(205.708008 -16.3125) scale(0.7)\"/>\n     <use xlink:href=\"#DejaVuSans-Oblique-72\" transform=\"translate(248.535156 -16.3125) scale(0.7)\"/>\n     <use xlink:href=\"#DejaVuSans-Oblique-72\" transform=\"translate(277.314453 -16.3125) scale(0.7)\"/>\n    </g>\n   </g>\n   <g id=\"patch_3\">\n    <path d=\"M 286.29 31.18 \nC 287.006048 31.18 287.692866 30.895511 288.199188 30.389188 \nC 288.705511 29.882866 288.99 29.196048 288.99 28.48 \nC 288.99 27.763952 288.705511 27.077134 288.199188 26.570812 \nC 287.692866 26.064489 287.006048 25.78 286.29 25.78 \nC 285.573952 25.78 284.887134 26.064489 284.380812 26.570812 \nC 283.874489 27.077134 283.59 27.763952 283.59 28.48 \nC 283.59 29.196048 283.874489 29.882866 284.380812 30.389188 \nC 284.887134 30.895511 285.573952 31.18 286.29 31.18 \nz\n\" clip-path=\"url(#p1aa86574a1)\" style=\"stroke: #000000; stroke-width: 2; stroke-linejoin: miter\"/>\n   </g>\n   <g id=\"text_5\">\n    <!-- $V_{out}$ -->\n    <g transform=\"translate(273.27 19.268437) scale(0.14 -0.14)\">\n     <defs>\n      <path id=\"DejaVuSans-Oblique-75\" d=\"M 428 1388 \nL 838 3500 \nL 1416 3500 \nL 1006 1409 \nQ 975 1256 961 1147 \nQ 947 1038 947 966 \nQ 947 700 1109 554 \nQ 1272 409 1569 409 \nQ 2031 409 2368 721 \nQ 2706 1034 2809 1563 \nL 3194 3500 \nL 3769 3500 \nL 3091 0 \nL 2516 0 \nL 2631 550 \nQ 2388 244 2052 76 \nQ 1716 -91 1338 -91 \nQ 878 -91 622 161 \nQ 366 413 366 863 \nQ 366 956 381 1097 \nQ 397 1238 428 1388 \nz\n\" transform=\"scale(0.015625)\"/>\n      <path id=\"DejaVuSans-Oblique-74\" d=\"M 2706 3500 \nL 2619 3053 \nL 1472 3053 \nL 1100 1153 \nQ 1081 1047 1072 975 \nQ 1063 903 1063 863 \nQ 1063 663 1183 572 \nQ 1303 481 1569 481 \nL 2150 481 \nL 2053 0 \nL 1503 0 \nQ 991 0 739 200 \nQ 488 400 488 806 \nQ 488 878 497 964 \nQ 506 1050 525 1153 \nL 897 3053 \nL 409 3053 \nL 500 3500 \nL 978 3500 \nL 1172 4494 \nL 1747 4494 \nL 1556 3500 \nL 2706 3500 \nz\n\" transform=\"scale(0.015625)\"/>\n     </defs>\n     <use xlink:href=\"#DejaVuSans-Oblique-56\" transform=\"translate(0 0.09375)\"/>\n     <use xlink:href=\"#DejaVuSans-Oblique-6f\" transform=\"translate(68.408203 -16.3125) scale(0.7)\"/>\n     <use xlink:href=\"#DejaVuSans-Oblique-75\" transform=\"translate(111.235352 -16.3125) scale(0.7)\"/>\n     <use xlink:href=\"#DejaVuSans-Oblique-74\" transform=\"translate(155.600586 -16.3125) scale(0.7)\"/>\n    </g>\n   </g>\n  </g>\n </g>\n <defs>\n  <clipPath id=\"p1aa86574a1\">\n   <rect x=\"0\" y=\"0\" width=\"307.308\" height=\"164.2\"/>\n  </clipPath>\n </defs>\n</svg>\n",
            "image/png": "[encoded data removed]",
            "text/plain": "<schemdraw.backends.mpl.Figure object at 0x7f56d352aee0>"
          },
          "metadata": {}
        }
      ],
      "execution_count": 19,
      "metadata": {
        "collapsed": true,
        "jupyter": {
          "source_hidden": false,
          "outputs_hidden": false
        },
        "nteract": {
          "transient": {
            "deleting": false
          }
        },
        "execution": {
          "iopub.status.busy": "2024-11-24T09:18:12.041Z",
          "iopub.execute_input": "2024-11-24T09:18:12.060Z",
          "iopub.status.idle": "2024-11-24T09:18:12.092Z",
          "shell.execute_reply": "2024-11-24T09:18:09.728Z"
        }
      }
    },
    {
      "cell_type": "markdown",
      "source": [
        "The equation for the output voltage $V_{out}$ can now be written,"
      ],
      "metadata": {
        "nteract": {
          "transient": {
            "deleting": false
          }
        }
      }
    },
    {
      "cell_type": "code",
      "source": [
        "divider = sp.Eq(Vout, V_in_corr * R_2_in / (R_2_in + R_1))\n",
        "divider"
      ],
      "outputs": [
        {
          "output_type": "execute_result",
          "execution_count": 20,
          "data": {
            "text/latex": "$\\displaystyle 0.833333333333333 = \\frac{12400000000.0}{\\left(1 + \\frac{100000}{R_{2}}\\right) \\left(1 + \\frac{40000}{R_{1} + \\frac{100000}{1 + \\frac{100000}{R_{2}}}}\\right) \\left(146.020014476307 + \\frac{40000}{1 + \\frac{40000}{R_{1} + \\frac{100000}{1 + \\frac{100000}{R_{2}}}}}\\right) \\left(R_{1} + \\frac{100000}{1 + \\frac{100000}{R_{2}}}\\right)}$",
            "text/plain": "Eq(0.833333333333333, 12400000000.0/((1 + 100000/R_2)*(1 + 40000/(R_1 + 100000/(1 + 100000/R_2)))*(146.020014476307 + 40000/(1 + 40000/(R_1 + 100000/(1 + 100000/R_2))))*(R_1 + 100000/(1 + 100000/R_2))))"
          },
          "metadata": {}
        }
      ],
      "execution_count": 20,
      "metadata": {
        "collapsed": true,
        "jupyter": {
          "source_hidden": false,
          "outputs_hidden": false
        },
        "nteract": {
          "transient": {
            "deleting": false
          }
        },
        "execution": {
          "iopub.status.busy": "2024-11-24T09:18:12.120Z",
          "iopub.execute_input": "2024-11-24T09:18:12.139Z",
          "iopub.status.idle": "2024-11-24T09:18:12.605Z",
          "shell.execute_reply": "2024-11-24T09:18:09.746Z"
        }
      }
    },
    {
      "cell_type": "markdown",
      "source": [
        "This equation can now be solved for $R_1$."
      ],
      "metadata": {
        "nteract": {
          "transient": {
            "deleting": false
          }
        }
      }
    },
    {
      "cell_type": "code",
      "source": [
        "sols = sp.solve(divider, R_1)\n",
        "assert len(sols) == 1\n",
        "sol = sols[0]\n",
        "sol"
      ],
      "outputs": [
        {
          "output_type": "execute_result",
          "execution_count": 21,
          "data": {
            "text/latex": "$\\displaystyle \\frac{1.08595571979733 \\cdot 10^{22} R_{2} - 5.84080057905228 \\cdot 10^{23}}{4.01460200144763 \\cdot 10^{16} R_{2} + 4.01460200144763 \\cdot 10^{21}}$",
            "text/plain": "(1.08595571979733e+22*R_2 - 5.84080057905228e+23)/(4.01460200144763e+16*R_2 + 4.01460200144763e+21)"
          },
          "metadata": {}
        }
      ],
      "execution_count": 21,
      "metadata": {
        "collapsed": true,
        "jupyter": {
          "source_hidden": false,
          "outputs_hidden": false
        },
        "nteract": {
          "transient": {
            "deleting": false
          }
        },
        "execution": {
          "iopub.status.busy": "2024-11-24T09:18:12.633Z",
          "iopub.execute_input": "2024-11-24T09:18:12.649Z",
          "iopub.status.idle": "2024-11-24T09:18:12.693Z",
          "shell.execute_reply": "2024-11-24T09:18:09.763Z"
        }
      }
    },
    {
      "cell_type": "markdown",
      "source": [
        "A function now can be created for finding $R_1$ from $R_2$."
      ],
      "metadata": {
        "nteract": {
          "transient": {
            "deleting": false
          }
        }
      }
    },
    {
      "cell_type": "code",
      "source": [
        "calc_R1 = sp.lambdify(R_2, sol)"
      ],
      "outputs": [],
      "execution_count": 22,
      "metadata": {
        "collapsed": true,
        "jupyter": {
          "source_hidden": false,
          "outputs_hidden": false
        },
        "nteract": {
          "transient": {
            "deleting": false
          }
        },
        "execution": {
          "iopub.status.busy": "2024-11-24T09:18:12.718Z",
          "iopub.execute_input": "2024-11-24T09:18:12.735Z",
          "iopub.status.idle": "2024-11-24T09:18:12.753Z",
          "shell.execute_reply": "2024-11-24T09:18:09.780Z"
        }
      }
    },
    {
      "cell_type": "markdown",
      "source": [
        "The hard part about this design problem is the resistor choices are limited. Resistors are primarily only available in the E-series:"
      ],
      "metadata": {
        "nteract": {
          "transient": {
            "deleting": false
          }
        }
      }
    },
    {
      "cell_type": "code",
      "source": [
        "Eseries = np.array([1, 1.2, 1.5, 1.8, 2.2, 2.7, 3.3, 3.9, 4.7, 5.6, 6.8, 8.2])\n",
        "\n",
        "@np.vectorize\n",
        "def find_closest(value):\n",
        "  assert value > 0\n",
        "  series = np.hstack([Eseries, 10 * Eseries])\n",
        "  while True:\n",
        "    if value > series.max():\n",
        "      series *= 10\n",
        "    elif value < series.min():\n",
        "      series /= 10\n",
        "    else:\n",
        "      break\n",
        "  return series[np.abs(series - value).argmin()]\n",
        "  "
      ],
      "outputs": [],
      "execution_count": 23,
      "metadata": {
        "collapsed": true,
        "jupyter": {
          "source_hidden": false,
          "outputs_hidden": false
        },
        "nteract": {
          "transient": {
            "deleting": false
          }
        },
        "execution": {
          "iopub.status.busy": "2024-11-24T09:18:12.778Z",
          "iopub.execute_input": "2024-11-24T09:18:12.794Z",
          "iopub.status.idle": "2024-11-24T09:18:12.812Z",
          "shell.execute_reply": "2024-11-24T09:18:09.797Z"
        }
      }
    },
    {
      "cell_type": "markdown",
      "source": [
        "We can assume values for R2, then solve for R1."
      ],
      "metadata": {
        "nteract": {
          "transient": {
            "deleting": false
          }
        }
      }
    },
    {
      "cell_type": "code",
      "source": [
        "R2 = 1000 * Eseries\n",
        "R2"
      ],
      "outputs": [
        {
          "output_type": "execute_result",
          "execution_count": 24,
          "data": {
            "text/plain": "array([1000., 1200., 1500., 1800., 2200., 2700., 3300., 3900., 4700.,\n       5600., 6800., 8200.])"
          },
          "metadata": {}
        }
      ],
      "execution_count": 24,
      "metadata": {
        "collapsed": true,
        "jupyter": {
          "source_hidden": false,
          "outputs_hidden": false
        },
        "nteract": {
          "transient": {
            "deleting": false
          }
        },
        "execution": {
          "iopub.status.busy": "2024-11-24T09:18:12.839Z",
          "iopub.execute_input": "2024-11-24T09:18:12.855Z",
          "iopub.status.idle": "2024-11-24T09:18:12.882Z",
          "shell.execute_reply": "2024-11-24T09:18:09.815Z"
        }
      }
    },
    {
      "cell_type": "markdown",
      "source": [
        "We can now solve for the value of the R1, given R2:"
      ],
      "metadata": {
        "nteract": {
          "transient": {
            "deleting": false
          }
        }
      }
    },
    {
      "cell_type": "code",
      "source": [
        "R1 = find_closest(calc_R1(R2))\n",
        "print(R1)"
      ],
      "outputs": [
        {
          "output_type": "stream",
          "name": "stdout",
          "text": [
            "[ 2700.  3300.  3900.  4700.  5600.  6800.  8200. 10000. 12000. 15000.\n",
            " 18000. 22000.]\n"
          ]
        }
      ],
      "execution_count": 25,
      "metadata": {
        "collapsed": true,
        "jupyter": {
          "source_hidden": false,
          "outputs_hidden": false
        },
        "nteract": {
          "transient": {
            "deleting": false
          }
        },
        "execution": {
          "iopub.status.busy": "2024-11-24T09:18:12.908Z",
          "iopub.execute_input": "2024-11-24T09:18:12.926Z",
          "shell.execute_reply": "2024-11-24T09:18:09.832Z",
          "iopub.status.idle": "2024-11-24T09:18:12.955Z"
        }
      }
    },
    {
      "cell_type": "code",
      "source": [
        "calc_V_out = sp.lambdify((R_1, R_2), divider.rhs)"
      ],
      "outputs": [],
      "execution_count": 26,
      "metadata": {
        "collapsed": true,
        "jupyter": {
          "source_hidden": false,
          "outputs_hidden": false
        },
        "nteract": {
          "transient": {
            "deleting": false
          }
        },
        "execution": {
          "iopub.status.busy": "2024-11-24T09:18:12.981Z",
          "iopub.execute_input": "2024-11-24T09:18:12.999Z",
          "iopub.status.idle": "2024-11-24T09:18:13.019Z",
          "shell.execute_reply": "2024-11-24T09:18:09.850Z"
        }
      }
    },
    {
      "cell_type": "markdown",
      "source": [
        "We can now find the output of each divider:"
      ],
      "metadata": {
        "nteract": {
          "transient": {
            "deleting": false
          }
        }
      }
    },
    {
      "cell_type": "code",
      "source": [
        "Vout_act = calc_V_out(R1, R2)\n",
        "Vout_act"
      ],
      "outputs": [
        {
          "output_type": "execute_result",
          "execution_count": 27,
          "data": {
            "text/plain": "array([0.79730754, 0.79082573, 0.82642622, 0.82577538, 0.84183437,\n       0.84811776, 0.85503609, 0.83414514, 0.83352855, 0.80101645,\n       0.80228507, 0.78751319])"
          },
          "metadata": {}
        }
      ],
      "execution_count": 27,
      "metadata": {
        "collapsed": true,
        "jupyter": {
          "source_hidden": false,
          "outputs_hidden": false
        },
        "nteract": {
          "transient": {
            "deleting": false
          }
        },
        "execution": {
          "iopub.status.busy": "2024-11-24T09:18:13.048Z",
          "iopub.execute_input": "2024-11-24T09:18:13.066Z",
          "iopub.status.idle": "2024-11-24T09:18:13.095Z",
          "shell.execute_reply": "2024-11-24T09:18:09.867Z"
        }
      }
    },
    {
      "cell_type": "code",
      "source": [
        "plt.bar(range(Vout_act.size), Vout_act)\n",
        "plt.ylabel(\"Actual Output Voltage\")\n",
        "plt.xlabel(\"Voltage Divider\");"
      ],
      "outputs": [
        {
          "output_type": "display_data",
          "data": {
            "image/png": "[encoded data removed]",
            "text/plain": "<Figure size 432x288 with 1 Axes>"
          },
          "metadata": {
            "needs_background": "light"
          }
        }
      ],
      "execution_count": 28,
      "metadata": {
        "collapsed": true,
        "jupyter": {
          "source_hidden": false,
          "outputs_hidden": false
        },
        "nteract": {
          "transient": {
            "deleting": false
          }
        },
        "execution": {
          "iopub.status.busy": "2024-11-24T09:18:13.121Z",
          "iopub.execute_input": "2024-11-24T09:18:13.138Z",
          "iopub.status.idle": "2024-11-24T09:18:13.167Z",
          "shell.execute_reply": "2024-11-24T09:18:09.884Z"
        }
      }
    },
    {
      "cell_type": "code",
      "source": [
        "percent_error = 100 * np.abs((Vout_act - Vout) / Vout)\n",
        "plt.bar(range(percent_error.size), percent_error)\n",
        "plt.ylabel(\"Percent Error\")\n",
        "plt.xlabel(\"Voltage Divider\");"
      ],
      "outputs": [
        {
          "output_type": "display_data",
          "data": {
            "image/png": "[encoded data removed]",
            "text/plain": "<Figure size 432x288 with 1 Axes>"
          },
          "metadata": {
            "needs_background": "light"
          }
        }
      ],
      "execution_count": 29,
      "metadata": {
        "collapsed": true,
        "jupyter": {
          "source_hidden": false,
          "outputs_hidden": false
        },
        "nteract": {
          "transient": {
            "deleting": false
          }
        },
        "execution": {
          "iopub.status.busy": "2024-11-24T09:18:13.193Z",
          "iopub.execute_input": "2024-11-24T09:18:13.210Z",
          "iopub.status.idle": "2024-11-24T09:18:13.239Z",
          "shell.execute_reply": "2024-11-24T09:18:09.902Z"
        }
      }
    },
    {
      "cell_type": "markdown",
      "source": [
        "The best resistor divider is:"
      ],
      "metadata": {
        "nteract": {
          "transient": {
            "deleting": false
          }
        }
      }
    },
    {
      "cell_type": "code",
      "source": [
        "best = percent_error.argmin()\n",
        "best"
      ],
      "outputs": [
        {
          "output_type": "execute_result",
          "execution_count": 30,
          "data": {
            "text/plain": "8"
          },
          "metadata": {}
        }
      ],
      "execution_count": 30,
      "metadata": {
        "collapsed": true,
        "jupyter": {
          "source_hidden": false,
          "outputs_hidden": false
        },
        "nteract": {
          "transient": {
            "deleting": false
          }
        },
        "execution": {
          "iopub.status.busy": "2024-11-24T09:18:13.265Z",
          "iopub.execute_input": "2024-11-24T09:18:13.283Z",
          "iopub.status.idle": "2024-11-24T09:18:13.311Z",
          "shell.execute_reply": "2024-11-24T09:18:09.920Z"
        }
      }
    },
    {
      "cell_type": "markdown",
      "source": [
        "This resistor divider is composed of resistors with values:"
      ],
      "metadata": {
        "nteract": {
          "transient": {
            "deleting": false
          }
        }
      }
    },
    {
      "cell_type": "code",
      "source": [
        "print(f\"{R1[best]} and {R2[best]} ohms\")"
      ],
      "outputs": [
        {
          "output_type": "stream",
          "name": "stdout",
          "text": [
            "12000.0 and 4700.0 ohms\n"
          ]
        }
      ],
      "execution_count": 31,
      "metadata": {
        "collapsed": true,
        "jupyter": {
          "source_hidden": false,
          "outputs_hidden": false
        },
        "nteract": {
          "transient": {
            "deleting": false
          }
        },
        "execution": {
          "iopub.status.busy": "2024-11-24T09:18:13.337Z",
          "iopub.execute_input": "2024-11-24T09:18:13.353Z",
          "iopub.status.idle": "2024-11-24T09:18:13.380Z",
          "shell.execute_reply": "2024-11-24T09:18:09.938Z"
        }
      }
    },
    {
      "cell_type": "markdown",
      "source": [
        "It results in an output voltage of:"
      ],
      "metadata": {
        "nteract": {
          "transient": {
            "deleting": false
          }
        }
      }
    },
    {
      "cell_type": "code",
      "source": [
        "Vout_act[best]"
      ],
      "outputs": [
        {
          "output_type": "execute_result",
          "execution_count": 32,
          "data": {
            "text/latex": "$\\displaystyle 0.833528548283969$",
            "text/plain": "0.8335285482839689"
          },
          "metadata": {}
        }
      ],
      "execution_count": 32,
      "metadata": {
        "collapsed": true,
        "jupyter": {
          "source_hidden": false,
          "outputs_hidden": false
        },
        "nteract": {
          "transient": {
            "deleting": false
          }
        },
        "execution": {
          "iopub.status.busy": "2024-11-24T09:18:13.405Z",
          "iopub.execute_input": "2024-11-24T09:18:13.423Z",
          "iopub.status.idle": "2024-11-24T09:18:13.464Z",
          "shell.execute_reply": "2024-11-24T09:18:09.955Z"
        }
      }
    },
    {
      "cell_type": "markdown",
      "source": [
        "Which has a percent error of:"
      ],
      "metadata": {
        "nteract": {
          "transient": {
            "deleting": false
          }
        }
      }
    },
    {
      "cell_type": "code",
      "source": [
        "print(f\"{percent_error[best]}%\")"
      ],
      "outputs": [
        {
          "output_type": "stream",
          "name": "stdout",
          "text": [
            "0.02342579407626832%\n"
          ]
        }
      ],
      "execution_count": 33,
      "metadata": {
        "collapsed": true,
        "jupyter": {
          "source_hidden": false,
          "outputs_hidden": false
        },
        "nteract": {
          "transient": {
            "deleting": false
          }
        },
        "execution": {
          "iopub.status.busy": "2024-11-24T09:18:13.492Z",
          "iopub.execute_input": "2024-11-24T09:18:13.510Z",
          "iopub.status.idle": "2024-11-24T09:18:13.542Z",
          "shell.execute_reply": "2024-11-24T09:18:09.973Z"
        }
      }
    },
    {
      "cell_type": "markdown",
      "source": [
        "Using these equations, the old amplifier input voltage is estimated at:"
      ],
      "metadata": {
        "nteract": {
          "transient": {
            "deleting": false
          }
        }
      }
    },
    {
      "cell_type": "code",
      "source": [
        "print(f\"{calc_V_out(2700, 1000)} Volts\")"
      ],
      "outputs": [
        {
          "output_type": "stream",
          "name": "stdout",
          "text": [
            "0.7973075429469523 Volts\n"
          ]
        }
      ],
      "execution_count": 34,
      "metadata": {
        "collapsed": true,
        "jupyter": {
          "source_hidden": false,
          "outputs_hidden": false
        },
        "nteract": {
          "transient": {
            "deleting": false
          }
        },
        "execution": {
          "iopub.status.busy": "2024-11-24T09:18:13.570Z",
          "iopub.execute_input": "2024-11-24T09:18:13.587Z",
          "iopub.status.idle": "2024-11-24T09:18:13.615Z",
          "shell.execute_reply": "2024-11-24T09:18:09.992Z"
        }
      }
    },
    {
      "cell_type": "markdown",
      "source": [
        "Which is close to the measured 0.794 Volts"
      ],
      "metadata": {
        "nteract": {
          "transient": {
            "deleting": false
          }
        }
      }
    }
  ],
  "metadata": {
    "kernel_info": {
      "name": "sagemath"
    },
    "language_info": {
      "name": "python",
      "version": "3.8.10",
      "mimetype": "text/x-python",
      "codemirror_mode": {
        "name": "ipython",
        "version": 3
      },
      "pygments_lexer": "ipython3",
      "nbconvert_exporter": "python",
      "file_extension": ".py"
    },
    "kernelspec": {
      "argv": [
        "/usr/bin/sage",
        "--python",
        "-m",
        "sage.repl.ipython_kernel",
        "-f",
        "{connection_file}"
      ],
      "display_name": "SageMath 9.0",
      "language": "sage",
      "name": "sagemath"
    },
    "nteract": {
      "version": "0.28.0"
    }
  },
  "nbformat": 4,
  "nbformat_minor": 0
}